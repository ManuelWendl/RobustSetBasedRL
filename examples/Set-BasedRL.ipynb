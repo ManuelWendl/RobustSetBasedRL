{
 "cells": [
  {
   "cell_type": "markdown",
   "metadata": {},
   "source": [
    "# Set-Based Reinforcement Learning\n",
    "\n",
    "In this notebook, we implement a set-based reinforcement learning algorithm, which is based on the paper [Training Verifiably Robust Agents using Set-Based Reinforcement Learning](https://arxiv.org/abs/2408.09112). "
   ]
  },
  {
   "cell_type": "code",
   "execution_count": 1,
   "metadata": {},
   "outputs": [],
   "source": [
    "import torch\n",
    "import sys\n",
    "sys.path.append('..')\n",
    "from SBML import ZonoTorch as zt\n",
    "from SBML import SBRL as sbrl\n",
    "\n",
    "DEVICE = torch.device('cuda' if torch.cuda.is_available() else 'cpu')\n",
    "\n",
    "seed = torch.random.manual_seed(0)"
   ]
  },
  {
   "cell_type": "markdown",
   "metadata": {},
   "source": [
    "System dynamics of 1d Quadrotor:\n",
    "$$\\begin{bmatrix}\\dot z\\\\ \\ddot z\\end{bmatrix} = \\begin{bmatrix}\\dot z\\\\ (u+1)/(2*m)-g\\end{bmatrix}$$\n",
    "Reward function: \n",
    "$$r = -|z| - 0.1*|\\dot z|$$"
   ]
  },
  {
   "cell_type": "code",
   "execution_count": 2,
   "metadata": {},
   "outputs": [],
   "source": [
    "m = 0.05\n",
    "g = 9.81\n",
    "\n",
    "def dynamics(x,u):\n",
    "    dx = torch.tensor([[x[0,1],(u[0,0]+1)/(2*m)-g]]).to(device=DEVICE)\n",
    "    return dx\n",
    "\n",
    "def reward(x,u,x_next):\n",
    "    r = - torch.sum(torch.abs(x*torch.tensor([[1,0.1]]).to(device=DEVICE)))\n",
    "    return r\n",
    "\n",
    "init_state = zt.set.Interval(torch.tensor([[-4,4],[0,0]]).to(device=DEVICE))\n"
   ]
  },
  {
   "cell_type": "markdown",
   "metadata": {},
   "source": [
    "Actor and Critic models are implemented using PyTorch. The actor and critic are simple feedforward neural networks with 2 hidden layers."
   ]
  },
  {
   "cell_type": "code",
   "execution_count": 3,
   "metadata": {},
   "outputs": [],
   "source": [
    "actor = torch.nn.Sequential(\n",
    "    torch.nn.Linear(2, 64),\n",
    "    torch.nn.ReLU(),\n",
    "    torch.nn.Linear(64, 32),\n",
    "    torch.nn.ReLU(),\n",
    "    torch.nn.Linear(32, 1),\n",
    "    torch.nn.Tanh()\n",
    ")\n",
    "\n",
    "critic = torch.nn.Sequential(\n",
    "    torch.nn.Linear(3, 64),\n",
    "    torch.nn.ReLU(),\n",
    "    torch.nn.Linear(64, 32),\n",
    "    torch.nn.ReLU(),\n",
    "    torch.nn.Linear(32, 1)\n",
    ")"
   ]
  },
  {
   "cell_type": "code",
   "execution_count": 4,
   "metadata": {},
   "outputs": [],
   "source": [
    "env_options = {\n",
    "    'ct': 0.1,\n",
    "    'dt': 0.01,\n",
    "    'max_step': 30,\n",
    "    'initial_ops': 'uniform',\n",
    "}\n",
    "\n",
    "senv = sbrl.SetEnvironmnent(init_state,env_options,dynamics,reward,device=DEVICE)\n",
    "\n",
    "ddpg_ops = {\n",
    "    'actor_lr': 1e-4,\n",
    "    'actor_train_mode': 'set',\n",
    "    'critic_lr': 1e-3,\n",
    "    'critic_train_mode': 'point',\n",
    "    'gamma': 0.99,\n",
    "    'tau': 0.005,\n",
    "    'buffer_size': 10000,\n",
    "    'batch_size': 64,\n",
    "    'exp_noise': 0.2,\n",
    "    'action_ub': 1,\n",
    "    'action_lb': -1,\n",
    "    'noise': .1,\n",
    "    'actor_eta': 0.01,\n",
    "    'actor_omega': 0.0,\n",
    "}\n",
    "agent = sbrl.DDPG(actor,critic,ddpg_ops,DEVICE)"
   ]
  },
  {
   "cell_type": "code",
   "execution_count": null,
   "metadata": {},
   "outputs": [
    {
     "name": "stdout",
     "output_type": "stream",
     "text": [
      "Reinforcment Learning Parameters:\n",
      "=================================\n",
      "Standard-RL Options:\n",
      "--------------------\n",
      "Discount Factor (gamma): 0.99\n",
      "Buffer Size: 10000\n",
      "Batch Size: 64\n",
      "Episodes: 1000\n",
      "Device: cuda\n",
      "\n",
      "Actor Options:\n",
      "--------------\n",
      "Learning Rate: 0.0001\n",
      "Training Mode: point\n",
      "\n",
      "Critic Options:\n",
      "---------------\n",
      "Learning Rate: 0.001\n",
      "Training Mode: point\n",
      "=================================\n",
      "\n",
      "\n"
     ]
    }
   ],
   "source": [
    "agent.train(senv,1000,True)"
   ]
  }
 ],
 "metadata": {
  "kernelspec": {
   "display_name": ".venv",
   "language": "python",
   "name": "python3"
  },
  "language_info": {
   "codemirror_mode": {
    "name": "ipython",
    "version": 3
   },
   "file_extension": ".py",
   "mimetype": "text/x-python",
   "name": "python",
   "nbconvert_exporter": "python",
   "pygments_lexer": "ipython3",
   "version": "3.12.7"
  }
 },
 "nbformat": 4,
 "nbformat_minor": 2
}
