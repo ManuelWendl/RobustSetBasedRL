{
 "cells": [
  {
   "cell_type": "markdown",
   "metadata": {},
   "source": [
    "# Set-Based Neural Network Training with PyTorch\n",
    "\n",
    "In this notebook, I will show you how to train a neural network using set-based computation. This is a simple example to show you how to use set-based data in PyTorch."
   ]
  },
  {
   "cell_type": "code",
   "execution_count": null,
   "metadata": {},
   "outputs": [],
   "source": [
    "# Importing the libraries\n",
    "from copy import deepcopy\n",
    "import torch    \n",
    "import numpy as np\n",
    "import matplotlib.pyplot as plt\n",
    "import sys\n",
    "sys.path.append('..')\n",
    "from SBML import ZonoTorch as zt"
   ]
  },
  {
   "cell_type": "code",
   "execution_count": null,
   "metadata": {},
   "outputs": [],
   "source": [
    "# Generating the input data\n",
    "np.random.seed(1)\n",
    "torch.manual_seed(1)\n",
    "\n",
    "num_samples = 100\n",
    "\n",
    "x = np.random.rand(num_samples, 1) * 10 - 5\n",
    "y = (np.sign(x) + 1)/2\n",
    "x += np.random.randn(num_samples, 1) * 0.5\n",
    "\n",
    "# Plotting the data\n",
    "plt.scatter(x, y, label='Data')\n",
    "plt.legend()\n",
    "plt.xlabel('x')\n",
    "plt.ylabel('y')\n",
    "plt.title('Data')\n",
    "plt.show()\n"
   ]
  },
  {
   "cell_type": "code",
   "execution_count": null,
   "metadata": {},
   "outputs": [],
   "source": [
    "# Initializing the model\n",
    "\n",
    "nn = torch.nn.Sequential(\n",
    "    torch.nn.Linear(1, 400),\n",
    "    torch.nn.ReLU(),\n",
    "    torch.nn.Linear(400, 300),\n",
    "    torch.nn.ReLU(),\n",
    "    torch.nn.Linear(300, 2),\n",
    "    torch.nn.Softmax()\n",
    ")\n",
    "\n",
    "# Initialize weights using Xavier initialization\n",
    "for layer in nn:\n",
    "    if isinstance(layer, torch.nn.Linear):\n",
    "        torch.nn.init.xavier_uniform_(layer.weight)\n",
    "        torch.nn.init.zeros_(layer.bias)"
   ]
  },
  {
   "cell_type": "code",
   "execution_count": null,
   "metadata": {},
   "outputs": [],
   "source": [
    "# Training the model\n",
    "# Use cuda if available\n",
    "device = torch.device('cuda' if torch.cuda.is_available() else 'cpu')\n",
    "\n",
    "# Duplicating model\n",
    "nn_point = deepcopy(nn)\n",
    "nn_point = nn_point.to(device)\n",
    "nn_set = deepcopy(nn)\n",
    "nn_set = nn_set.to(device)\n",
    "\n",
    "# Load the data\n",
    "x = torch.tensor(x, dtype=torch.float32).to(device)\n",
    "y = torch.tensor(y.squeeze(), dtype=torch.long).to(device)"
   ]
  },
  {
   "cell_type": "code",
   "execution_count": null,
   "metadata": {},
   "outputs": [],
   "source": [
    "# Loss function\n",
    "loss_point = torch.nn.CrossEntropyLoss()\n",
    "loss_set = zt.core.ZonotopeClassificationLoss(1e-1,1e-1)\n",
    "\n",
    "# Optimizer\n",
    "optimizer_point = torch.optim.Adam(nn_point.parameters(), lr=0.01)\n",
    "optimizer_set = torch.optim.Adam(nn_set.parameters(), lr=0.01)\n",
    "\n",
    "# Training the model\n",
    "nn_point_trained = zt.train(nn_point, loss_point, optimizer_point, x, y, 100, batchsize=64)\n",
    "nn_set_trained = zt.train(nn_set, loss_set, optimizer_set, x, y, 100, batchsize=64, noise=1e-1)"
   ]
  },
  {
   "cell_type": "code",
   "execution_count": null,
   "metadata": {},
   "outputs": [],
   "source": [
    "# Plotting the results\n",
    "\n",
    "x_test = torch.linspace(-5, 5, 100).view(-1, 1).to(device)\n",
    "y_pred_point = nn_point_trained(x_test)\n",
    "y_pred_set = nn_set_trained(x_test)\n",
    "\n",
    "# Calculate accuracy\n",
    "y_pred_point_class = torch.argmax(y_pred_point, dim=1)\n",
    "y_pred_set_class = torch.argmax(y_pred_set, dim=1)\n",
    "accuracy_point = torch.sum(y_pred_point_class == y).item() / y.size(0)\n",
    "accuracy_set = torch.sum(y_pred_set_class == y).item() / y.size(0)\n",
    "print('Point Prediction Accuracy: {:.2f}%'.format(accuracy_point * 100))\n",
    "print('Set Prediction Accuracy: {:.2f}%'.format(accuracy_set * 100))\n",
    "\n",
    "plt.scatter(x.detach().cpu(), y.detach().cpu(), label='Data')\n",
    "plt.plot(x_test.detach().cpu(), y_pred_point.detach().cpu(), color ='green',label='Point Prediction')\n",
    "plt.plot(x_test.detach().cpu(), y_pred_set.detach().cpu(), color = 'orange', label='Set Prediction')\n",
    "plt.plot(x_test.detach().cpu(), torch.argmax(y_pred_point, dim=1).detach().cpu(), color = 'red', label='Point Prediction Class')\n",
    "plt.plot(x_test.detach().cpu(), torch.argmax(y_pred_set, dim=1).detach().cpu(), color = 'blue', label='Set Prediction Class')\n",
    "plt.legend()\n",
    "plt.xlabel('x')\n",
    "plt.ylabel('y')\n",
    "plt.title('Data')\n",
    "plt.show()"
   ]
  }
 ],
 "metadata": {
  "kernelspec": {
   "display_name": ".venv",
   "language": "python",
   "name": "python3"
  },
  "language_info": {
   "codemirror_mode": {
    "name": "ipython",
    "version": 3
   },
   "file_extension": ".py",
   "mimetype": "text/x-python",
   "name": "python",
   "nbconvert_exporter": "python",
   "pygments_lexer": "ipython3",
   "version": "3.8.18"
  }
 },
 "nbformat": 4,
 "nbformat_minor": 2
}
