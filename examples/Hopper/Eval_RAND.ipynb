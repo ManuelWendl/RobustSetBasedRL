{
 "cells": [
  {
   "cell_type": "code",
   "execution_count": null,
   "metadata": {},
   "outputs": [],
   "source": [
    "import torch\n",
    "import matplotlib.pyplot as plt\n",
    "import numpy as np\n",
    "import os\n",
    "import sys\n",
    "sys.path.append('../..')\n",
    "from SBML import ZonoTorch as zt\n",
    "from SBML import SBRL as sbrl\n",
    "\n",
    "DEVICE = torch.device('cuda' if torch.cuda.is_available() else 'cpu')\n",
    "\n",
    "seed = 0\n",
    "\n",
    "seedtorch = torch.random.manual_seed(seed)\n",
    "seednp = np.random.seed(seed)"
   ]
  },
  {
   "cell_type": "code",
   "execution_count": null,
   "metadata": {},
   "outputs": [],
   "source": [
    "senv = sbrl.GymEnvironment('Hopper-v3', options={\"reset_noise_scale\":1e-6}, device=DEVICE)"
   ]
  },
  {
   "cell_type": "code",
   "execution_count": null,
   "metadata": {},
   "outputs": [],
   "source": [
    "def mad_attack(actor,state,epsilon,alpha,attack_iter):\n",
    "    ori_state = state.clone().detach()\n",
    "    gt_action = actor(state).clone().detach()\n",
    "\n",
    "    criterion = torch.nn.MSELoss()\n",
    "    noise = np.random.uniform(-alpha, alpha, size=state.shape)\n",
    "    \n",
    "    state += torch.tensor(noise).to(DEVICE, dtype=torch.float32)\n",
    "\n",
    "    for _ in range(attack_iter):\n",
    "        state = state.clone().detach().requires_grad_(True)\n",
    "        action = actor(state)\n",
    "\n",
    "        loss = -criterion(action, gt_action)\n",
    "        actor.zero_grad()\n",
    "        loss.backward()\n",
    "        adv_state = state - alpha * torch.sign(state.grad)\n",
    "        state = torch.clamp(adv_state, ori_state - epsilon, ori_state + epsilon)\n",
    "    \n",
    "    return state.detach()"
   ]
  },
  {
   "cell_type": "code",
   "execution_count": null,
   "metadata": {},
   "outputs": [],
   "source": [
    "def random_attack(state,epsilon):\n",
    "    noise = np.random.uniform(-epsilon, epsilon, size=state.shape)\n",
    "    state += torch.tensor(noise).to(DEVICE, dtype=torch.float32)\n",
    "    return state.detach()"
   ]
  },
  {
   "cell_type": "code",
   "execution_count": null,
   "metadata": {},
   "outputs": [],
   "source": [
    "from torch import nn\n",
    "\n",
    "# Load model form pth file\n",
    "# Transform the OrderedDict to a neural network model\n",
    "actor_SAPC = torch.nn.Sequential(\n",
    "    torch.nn.Linear(11, 400),\n",
    "    torch.nn.ReLU(),\n",
    "    torch.nn.Linear(400, 300),\n",
    "    torch.nn.ReLU(),\n",
    "    torch.nn.Linear(300, 3),\n",
    "    torch.nn.Tanh()\n",
    ")\n"
   ]
  },
  {
   "cell_type": "markdown",
   "metadata": {},
   "source": [
    "## Unif-Random Attack"
   ]
  },
  {
   "cell_type": "code",
   "execution_count": null,
   "metadata": {},
   "outputs": [],
   "source": [
    "epsilon = [0.2]\n",
    "eps = 200\n",
    "agents = [0,1,2,3,4]\n",
    "types = ['PAPC','NAIVE','GRAD','MAD','SAPC']\n",
    "\n",
    "equal_agent_num = 5\n",
    "\n",
    "mean_rewards = np.zeros((equal_agent_num,len(agents),len(epsilon), len(types)))\n",
    "median_rewards = np.zeros((equal_agent_num,len(agents),len(epsilon), len(types)))\n",
    "min_rewards = np.zeros((equal_agent_num,len(agents),len(epsilon), len(types)))\n",
    "std_rewards = np.zeros((equal_agent_num,len(agents),len(epsilon), len(types)))\n",
    "\n",
    "for t in range(len(types)):\n",
    "    for e in range(len(epsilon)):\n",
    "        for a in agents:\n",
    "            agent_list = os.listdir(f'agents_{types[t]}_{a}')\n",
    "            agent_list.sort(key=lambda x: os.path.getctime(f'agents_{types[t]}_{a}/{x}'))\n",
    "            agent_list = [x for x in agent_list if x.endswith('.pth')]\n",
    "            for m in range(equal_agent_num):\n",
    "                actor_SAPC.load_state_dict(torch.load(f'agents_{types[t]}_{a}/{agent_list[-(m+2)]}'))\n",
    "                actor_SAPC.to(DEVICE)\n",
    "\n",
    "                rewards = np.zeros(eps)\n",
    "            \n",
    "                for n in range(eps):\n",
    "                    senv.reset()\n",
    "                    done = False\n",
    "                    total_reward = 0\n",
    "                    state = senv.reset()\n",
    "                    while not done:\n",
    "                        adv_state = random_attack(state, epsilon[e])\n",
    "                        action = actor_SAPC(adv_state)\n",
    "                        state, reward, done, _ = senv.step(action)\n",
    "                        total_reward += reward\n",
    "                    rewards[n] = total_reward\n",
    "\n",
    "                print(f'Agent {m} in {types[t]} with epsilon {epsilon[e]} and attack {a} finished with {rewards.mean()},{rewards.min()}')\n",
    "\n",
    "                mean_rewards[m,a,e,t] = rewards.mean()\n",
    "                std_rewards[m,a,e,t] = rewards.std()\n",
    "                median_rewards[m,a,e,t] = np.median(rewards)\n",
    "                min_rewards[m,a,e,t] = rewards.min()\n"
   ]
  },
  {
   "cell_type": "code",
   "execution_count": null,
   "metadata": {},
   "outputs": [],
   "source": [
    "\n",
    "# Save the results\n",
    "np.save('rand_mean_rewards.npy', mean_rewards)\n",
    "np.save('rand_std_rewards.npy', std_rewards)\n",
    "np.save('rand_median_rewards.npy', median_rewards)\n",
    "np.save('rand_min_rewards.npy', min_rewards)\n"
   ]
  },
  {
   "cell_type": "code",
   "execution_count": null,
   "metadata": {},
   "outputs": [],
   "source": [
    "\n",
    "# Plot the mean min_rewards over all agents and its 95% confidence interval \n",
    "plt.figure(figsize=(10, 5))\n",
    "for t in range(len(types)):\n",
    "    mean_min_rewards = np.mean(np.mean(min_rewards[:, :, :, t], axis=0), axis=0)\n",
    "    std_min_rewards = np.std(np.mean(min_rewards[:, :, :, t], axis=0), axis=0)\n",
    "    plt.plot(epsilon, mean_min_rewards, label=types[t])\n",
    "    plt.fill_between(epsilon, mean_min_rewards - std_min_rewards / np.sqrt(equal_agent_num), \n",
    "                     mean_min_rewards + std_min_rewards / np.sqrt(equal_agent_num), alpha=0.2)\n",
    "plt.xlabel('Epsilon')\n",
    "plt.ylabel('Mean Min Rewards')\n",
    "plt.legend()\n",
    "plt.savefig('rand_mean_min_rewards.png')\n",
    "\n",
    "# Plot the mean median_rewards over all agents and its 95% confidence interval\n",
    "\n",
    "plt.figure(figsize=(10, 5))\n",
    "for t in range(len(types)):\n",
    "    mean_median_rewards = np.mean(np.mean(median_rewards[:, :, :, t], axis=0), axis=0)\n",
    "    std_median_rewards = np.std(np.mean(median_rewards[:, :, :, t], axis=0), axis=0)\n",
    "    plt.plot(epsilon, mean_median_rewards, label=types[t])\n",
    "    plt.fill_between(epsilon, mean_median_rewards - std_median_rewards / np.sqrt(equal_agent_num), \n",
    "                     mean_median_rewards + std_median_rewards / np.sqrt(equal_agent_num), alpha=0.2)\n",
    "plt.xlabel('Epsilon')\n",
    "plt.ylabel('Mean Median Rewards')\n",
    "plt.legend()\n",
    "plt.savefig('rand_mean_median_rewards.png')\n",
    "\n",
    "# Plot the mean mean_rewards over all agents and its 95% confidence interval\n",
    "colors = ['black', (0.03140, 0.56470, 0.00000), (0.03920, 0.36470, 0.00000), (0.07843, 0.80196, 0.00000), (0.69020, 0.82350, 1.00000)]\n",
    "\n",
    "plt.figure(figsize=(10, 5))\n",
    "for t in range(len(types)):\n",
    "    mean_mean_rewards = np.mean(np.mean(mean_rewards[:, :, :, t], axis=0), axis=0)\n",
    "    std_mean_rewards = np.std(np.mean(mean_rewards[:, :, :, t], axis=0), axis=0)\n",
    "    print(mean_mean_rewards,types[t])\n",
    "    print(mean_mean_rewards+std_mean_rewards/np.sqrt(equal_agent_num),types[t])\n",
    "    print(mean_mean_rewards-std_mean_rewards/np.sqrt(equal_agent_num),types[t])\n",
    "    plt.plot(epsilon, mean_mean_rewards, label=types[t], color=colors[t])\n",
    "    plt.fill_between(epsilon, mean_mean_rewards -  std_mean_rewards / np.sqrt(equal_agent_num), \n",
    "                     mean_mean_rewards +  std_mean_rewards / np.sqrt(equal_agent_num), alpha=0.2, color=colors[t])\n",
    "plt.xlabel('Epsilon')\n",
    "plt.ylabel('Mean Mean Rewards')\n",
    "plt.legend()\n",
    "\n",
    "import tikzplotlib\n",
    "tikzplotlib.save('rand_mean_mean_rewards.tex')\n",
    "plt.show()\n",
    "plt.savefig('rand_mean_mean_rewards.png')"
   ]
  }
 ],
 "metadata": {
  "kernelspec": {
   "display_name": ".venv",
   "language": "python",
   "name": "python3"
  },
  "language_info": {
   "codemirror_mode": {
    "name": "ipython",
    "version": 3
   },
   "file_extension": ".py",
   "mimetype": "text/x-python",
   "name": "python",
   "nbconvert_exporter": "python",
   "pygments_lexer": "ipython3",
   "version": "3.8.18"
  }
 },
 "nbformat": 4,
 "nbformat_minor": 2
}
