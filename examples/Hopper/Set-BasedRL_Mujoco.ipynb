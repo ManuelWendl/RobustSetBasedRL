{
 "cells": [
  {
   "cell_type": "markdown",
   "metadata": {},
   "source": [
    "# Set-Based Reinforcement Learning Hopper Environment\n",
    "\n",
    "In this notebook, we implement a set-based reinforcement learning algorithm, which is based on the paper [Training Verifiably Robust Agents using Set-Based Reinforcement Learning](https://arxiv.org/abs/2408.09112). "
   ]
  },
  {
   "cell_type": "code",
   "execution_count": 1,
   "metadata": {},
   "outputs": [],
   "source": [
    "import torch\n",
    "import matplotlib.pyplot as plt\n",
    "import numpy as np\n",
    "import os\n",
    "import sys\n",
    "sys.path.append('../..')\n",
    "from SBML import ZonoTorch as zt\n",
    "from SBML import SBRL as sbrl\n",
    "\n",
    "DEVICE = torch.device('cuda' if torch.cuda.is_available() else 'cpu')\n",
    "\n",
    "seed = 0\n",
    "\n",
    "seedtorch = torch.random.manual_seed(seed)\n",
    "seednp = np.random.seed(seed)"
   ]
  },
  {
   "cell_type": "markdown",
   "metadata": {},
   "source": [
    "Actor and Critic models are implemented using PyTorch. The actor and critic are simple feedforward neural networks with 2 hidden layers."
   ]
  },
  {
   "cell_type": "code",
   "execution_count": 2,
   "metadata": {},
   "outputs": [],
   "source": [
    "actor = torch.nn.Sequential(\n",
    "    torch.nn.Linear(11, 400),\n",
    "    torch.nn.ReLU(),\n",
    "    torch.nn.Linear(400, 300),\n",
    "    torch.nn.ReLU(),\n",
    "    torch.nn.Linear(300, 3),\n",
    "    torch.nn.Tanh()\n",
    ")\n",
    "\n",
    "critic = torch.nn.Sequential(\n",
    "    torch.nn.Linear(14, 400),\n",
    "    torch.nn.ReLU(),\n",
    "    torch.nn.Linear(400, 300),\n",
    "    torch.nn.ReLU(),\n",
    "    torch.nn.Linear(300, 1)\n",
    ")"
   ]
  },
  {
   "cell_type": "code",
   "execution_count": 3,
   "metadata": {},
   "outputs": [
    {
     "name": "stderr",
     "output_type": "stream",
     "text": [
      "/home/manuel/ETH_Code/SemProj/SetBasedRL/.venv/lib/python3.8/site-packages/gym/envs/registration.py:555: UserWarning: \u001b[33mWARN: The environment Hopper-v2 is out of date. You should consider upgrading to version `v4`.\u001b[0m\n",
      "  logger.warn(\n",
      "/home/manuel/ETH_Code/SemProj/SetBasedRL/.venv/lib/python3.8/site-packages/gym/envs/mujoco/mujoco_env.py:190: UserWarning: \u001b[33mWARN: This version of the mujoco environments depends on the mujoco-py bindings, which are no longer maintained and may stop working. Please upgrade to the v4 versions of the environments (which depend on the mujoco python bindings instead), unless you are trying to precisely replicate previous works).\u001b[0m\n",
      "  logger.warn(\n"
     ]
    }
   ],
   "source": [
    "env_options = {\n",
    "    'max_step': 1000,\n",
    "}\n",
    "\n",
    "senv = sbrl.GymEnvironment('Hopper-v2',env_options, DEVICE)\n",
    "\n",
    "ddpg_ops = {\n",
    "    'actor_lr': 1e-4,\n",
    "    'actor_train_mode': 'set',\n",
    "    'critic_lr': 1e-3,\n",
    "    'critic_l2': 0.01,\n",
    "    'critic_train_mode': 'set',\n",
    "    'gamma': 0.99,\n",
    "    'tau': 0.001,\n",
    "    'buffer_size': 5e5,\n",
    "    'batch_size': 64,\n",
    "    'exp_noise': 0.2,\n",
    "    'action_ub': 1,\n",
    "    'action_lb': -1,\n",
    "    'noise': 0.1,\n",
    "    'actor_eta': 0.01,\n",
    "    'actor_omega': 0.5,\n",
    "    'actor_adv_num_samples': 100,\n",
    "}\n",
    "agent = sbrl.DDPG(actor,critic,ddpg_ops,DEVICE)"
   ]
  },
  {
   "cell_type": "code",
   "execution_count": 4,
   "metadata": {},
   "outputs": [
    {
     "name": "stdout",
     "output_type": "stream",
     "text": [
      "Reinforcment Learning Parameters:\n",
      "=================================\n",
      "Standard-RL Options:\n",
      "--------------------\n",
      "Discount Factor (gamma): 0.99\n",
      "Buffer Size: 500000.0\n",
      "Batch Size: 64\n",
      "Steps: 2000000.0\n",
      "Device: cuda\n",
      "\n",
      "Actor Options:\n",
      "--------------\n",
      "Learning Rate: 0.0001\n",
      "Training Mode: set\n",
      "Eta: 0.01\n",
      "Omega: 0.5\n",
      "Noise: 0.1\n",
      "\n",
      "Critic Options:\n",
      "---------------\n",
      "Learning Rate: 0.001\n",
      "Training Mode: set\n",
      "Eta: 0.01\n",
      "=================================\n",
      "\n",
      "\n"
     ]
    },
    {
     "name": "stderr",
     "output_type": "stream",
     "text": [
      "/home/manuel/ETH_Code/SemProj/SetBasedRL/.venv/lib/python3.8/site-packages/gym/utils/passive_env_checker.py:233: DeprecationWarning: `np.bool8` is a deprecated alias for `np.bool_`.  (Deprecated NumPy 1.24)\n",
      "  if not isinstance(terminated, (bool, np.bool8)):\n"
     ]
    },
    {
     "name": "stdout",
     "output_type": "stream",
     "text": [
      "Found 4 GPUs for rendering. Using device 0.\n",
      "Training Information:\n",
      "=====================\n",
      "|Step           |Time   |Reward         |Q-Value        |Critic-Loss    |Actor-Loss     |\n",
      "|---------------|-------|---------------|---------------|---------------|---------------|\n",
      "|1.00e+00\t|0.0\t|9.94e-01\t|1.32e-03\t|0.00e+00\t|0.00e+00\t|\n",
      "|1.00e+03\t|2.2\t|1.96e+01\t|2.12e+00\t|2.17e-01\t|-2.43e+00\t|\n",
      "|2.00e+03\t|4.5\t|3.57e+01\t|2.89e+00\t|3.09e-01\t|-3.74e+00\t|\n",
      "|3.00e+03\t|6.6\t|6.54e+00\t|3.72e+00\t|4.49e-01\t|-5.02e+00\t|\n",
      "|4.00e+03\t|8.7\t|1.84e+01\t|4.66e+00\t|6.04e-01\t|-6.38e+00\t|\n",
      "|5.00e+03\t|10.8\t|8.79e+01\t|5.71e+00\t|7.04e-01\t|-7.64e+00\t|\n",
      "|6.00e+03\t|12.9\t|2.64e+01\t|6.91e+00\t|7.85e-01\t|-9.27e+00\t|\n",
      "|7.00e+03\t|15.0\t|2.93e+01\t|8.34e+00\t|9.71e-01\t|-1.09e+01\t|\n",
      "|8.00e+03\t|17.1\t|9.52e+01\t|1.04e+01\t|1.30e+00\t|-1.26e+01\t|\n",
      "|9.00e+03\t|19.2\t|7.10e+01\t|1.21e+01\t|1.47e+00\t|-1.44e+01\t|\n",
      "Moviepy - Building video /home/manuel/ETH_Code/SemProj/SetBasedRL/examples/Hopper_v2/videos/rl-video-287-episode-0.mp4.\n",
      "Moviepy - Writing video /home/manuel/ETH_Code/SemProj/SetBasedRL/examples/Hopper_v2/videos/rl-video-287-episode-0.mp4\n",
      "\n"
     ]
    },
    {
     "name": "stderr",
     "output_type": "stream",
     "text": [
      "                                                             \r"
     ]
    },
    {
     "name": "stdout",
     "output_type": "stream",
     "text": [
      "Moviepy - Done !\n",
      "Moviepy - video ready /home/manuel/ETH_Code/SemProj/SetBasedRL/examples/Hopper_v2/videos/rl-video-287-episode-0.mp4\n",
      "Evaluation Reward: 84.56401977539062\n",
      "|1.00e+04\t|21.3\t|1.05e+00\t|1.39e+01\t|1.50e+00\t|-1.63e+01\t|\n",
      "|1.10e+04\t|23.4\t|1.56e+02\t|1.63e+01\t|2.21e+00\t|-1.82e+01\t|\n",
      "|1.20e+04\t|25.5\t|6.47e+00\t|1.83e+01\t|2.26e+00\t|-2.09e+01\t|\n",
      "|1.30e+04\t|27.6\t|6.75e+01\t|2.10e+01\t|2.36e+00\t|-2.24e+01\t|\n",
      "|1.40e+04\t|29.7\t|1.71e+02\t|2.26e+01\t|3.36e+00\t|-2.47e+01\t|\n",
      "|1.50e+04\t|31.8\t|5.77e+01\t|2.57e+01\t|4.25e+00\t|-2.73e+01\t|\n",
      "|1.60e+04\t|33.9\t|9.13e+01\t|2.88e+01\t|5.25e+00\t|-2.95e+01\t|\n",
      "|1.70e+04\t|36.0\t|1.36e+02\t|3.21e+01\t|5.22e+00\t|-3.24e+01\t|\n",
      "|1.80e+04\t|38.1\t|9.01e+01\t|3.48e+01\t|6.60e+00\t|-3.48e+01\t|\n",
      "|1.90e+04\t|40.2\t|2.47e+01\t|3.63e+01\t|6.42e+00\t|-3.77e+01\t|\n",
      "Moviepy - Building video /home/manuel/ETH_Code/SemProj/SetBasedRL/examples/Hopper_v2/videos/rl-video-393-episode-0.mp4.\n",
      "Moviepy - Writing video /home/manuel/ETH_Code/SemProj/SetBasedRL/examples/Hopper_v2/videos/rl-video-393-episode-0.mp4\n",
      "\n"
     ]
    },
    {
     "name": "stderr",
     "output_type": "stream",
     "text": [
      "                                                               \r"
     ]
    },
    {
     "name": "stdout",
     "output_type": "stream",
     "text": [
      "Moviepy - Done !\n",
      "Moviepy - video ready /home/manuel/ETH_Code/SemProj/SetBasedRL/examples/Hopper_v2/videos/rl-video-393-episode-0.mp4\n",
      "Evaluation Reward: 237.2274169921875\n",
      "|2.00e+04\t|42.3\t|1.05e+00\t|4.06e+01\t|4.10e+00\t|-4.19e+01\t|\n",
      "|2.10e+04\t|44.4\t|5.32e+00\t|4.33e+01\t|4.34e+00\t|-4.41e+01\t|\n",
      "|2.20e+04\t|46.5\t|1.44e+02\t|4.77e+01\t|7.99e+00\t|-4.56e+01\t|\n",
      "|2.30e+04\t|48.6\t|4.28e+01\t|5.01e+01\t|1.08e+01\t|-4.87e+01\t|\n",
      "|2.40e+04\t|50.7\t|2.10e+02\t|5.26e+01\t|8.80e+00\t|-5.16e+01\t|\n",
      "|2.50e+04\t|52.8\t|2.88e+01\t|5.70e+01\t|9.53e+00\t|-5.48e+01\t|\n",
      "|2.60e+04\t|54.8\t|1.99e+02\t|6.09e+01\t|1.00e+01\t|-5.77e+01\t|\n",
      "|2.70e+04\t|56.9\t|1.18e+02\t|6.51e+01\t|1.32e+01\t|-6.02e+01\t|\n",
      "|2.80e+04\t|59.0\t|6.42e+00\t|6.98e+01\t|1.63e+01\t|-6.32e+01\t|\n",
      "|2.90e+04\t|61.1\t|5.25e+01\t|7.39e+01\t|1.21e+01\t|-6.54e+01\t|\n",
      "Moviepy - Building video /home/manuel/ETH_Code/SemProj/SetBasedRL/examples/Hopper_v2/videos/rl-video-490-episode-0.mp4.\n",
      "Moviepy - Writing video /home/manuel/ETH_Code/SemProj/SetBasedRL/examples/Hopper_v2/videos/rl-video-490-episode-0.mp4\n",
      "\n"
     ]
    },
    {
     "name": "stderr",
     "output_type": "stream",
     "text": [
      "                                                               \r"
     ]
    },
    {
     "name": "stdout",
     "output_type": "stream",
     "text": [
      "Moviepy - Done !\n",
      "Moviepy - video ready /home/manuel/ETH_Code/SemProj/SetBasedRL/examples/Hopper_v2/videos/rl-video-490-episode-0.mp4\n",
      "Evaluation Reward: 283.2254150390625\n",
      "|3.00e+04\t|63.3\t|1.01e+00\t|8.08e+01\t|4.48e+00\t|-6.92e+01\t|\n",
      "|3.10e+04\t|65.4\t|6.33e+00\t|8.33e+01\t|7.76e+00\t|-7.36e+01\t|\n",
      "|3.20e+04\t|67.5\t|2.25e+02\t|8.55e+01\t|1.50e+01\t|-7.42e+01\t|\n",
      "|3.30e+04\t|69.5\t|2.28e+02\t|9.04e+01\t|1.54e+01\t|-7.76e+01\t|\n",
      "|3.40e+04\t|71.7\t|3.51e+02\t|9.17e+01\t|1.83e+01\t|-8.02e+01\t|\n",
      "|3.50e+04\t|73.8\t|2.61e+02\t|9.33e+01\t|1.96e+01\t|-8.33e+01\t|\n",
      "|3.60e+04\t|75.9\t|8.36e+01\t|1.01e+02\t|1.90e+01\t|-8.67e+01\t|\n",
      "|3.70e+04\t|78.0\t|2.62e+02\t|1.04e+02\t|2.14e+01\t|-8.99e+01\t|\n",
      "|3.80e+04\t|80.1\t|4.44e+02\t|1.12e+02\t|2.52e+01\t|-9.32e+01\t|\n",
      "|3.90e+04\t|82.2\t|6.48e+01\t|1.12e+02\t|3.16e+01\t|-9.71e+01\t|\n",
      "Moviepy - Building video /home/manuel/ETH_Code/SemProj/SetBasedRL/examples/Hopper_v2/videos/rl-video-573-episode-0.mp4.\n",
      "Moviepy - Writing video /home/manuel/ETH_Code/SemProj/SetBasedRL/examples/Hopper_v2/videos/rl-video-573-episode-0.mp4\n",
      "\n"
     ]
    },
    {
     "name": "stderr",
     "output_type": "stream",
     "text": [
      "                                                               \r"
     ]
    },
    {
     "name": "stdout",
     "output_type": "stream",
     "text": [
      "Moviepy - Done !\n",
      "Moviepy - video ready /home/manuel/ETH_Code/SemProj/SetBasedRL/examples/Hopper_v2/videos/rl-video-573-episode-0.mp4\n",
      "Evaluation Reward: 268.646484375\n",
      "|4.00e+04\t|84.3\t|1.08e+00\t|1.21e+02\t|2.11e+01\t|-1.09e+02\t|\n",
      "|4.10e+04\t|86.4\t|1.31e+02\t|1.21e+02\t|4.21e+01\t|-1.04e+02\t|\n",
      "|4.20e+04\t|88.5\t|1.89e+02\t|1.25e+02\t|5.12e+01\t|-1.08e+02\t|\n",
      "|4.30e+04\t|90.6\t|3.92e+01\t|1.26e+02\t|6.06e+01\t|-1.13e+02\t|\n",
      "|4.40e+04\t|92.7\t|6.87e+01\t|1.38e+02\t|7.71e+01\t|-1.17e+02\t|\n",
      "|4.50e+04\t|94.8\t|5.11e+01\t|1.39e+02\t|9.28e+01\t|-1.20e+02\t|\n",
      "|4.60e+04\t|96.9\t|5.24e+01\t|1.36e+02\t|1.35e+02\t|-1.23e+02\t|\n",
      "|4.70e+04\t|99.0\t|8.38e+01\t|1.32e+02\t|1.41e+02\t|-1.22e+02\t|\n",
      "|4.80e+04\t|101.1\t|5.58e+00\t|1.36e+02\t|1.60e+02\t|-1.26e+02\t|\n",
      "|4.90e+04\t|103.2\t|5.44e+00\t|1.30e+02\t|1.36e+02\t|-1.27e+02\t|\n",
      "Moviepy - Building video /home/manuel/ETH_Code/SemProj/SetBasedRL/examples/Hopper_v2/videos/rl-video-815-episode-0.mp4.\n",
      "Moviepy - Writing video /home/manuel/ETH_Code/SemProj/SetBasedRL/examples/Hopper_v2/videos/rl-video-815-episode-0.mp4\n",
      "\n"
     ]
    },
    {
     "name": "stderr",
     "output_type": "stream",
     "text": [
      "                                                   "
     ]
    },
    {
     "name": "stdout",
     "output_type": "stream",
     "text": [
      "Moviepy - Done !\n",
      "Moviepy - video ready /home/manuel/ETH_Code/SemProj/SetBasedRL/examples/Hopper_v2/videos/rl-video-815-episode-0.mp4\n"
     ]
    },
    {
     "name": "stderr",
     "output_type": "stream",
     "text": [
      "\r"
     ]
    },
    {
     "name": "stdout",
     "output_type": "stream",
     "text": [
      "Evaluation Reward: 1.2592162132263183\n",
      "|5.00e+04\t|105.3\t|8.96e-01\t|1.32e+02\t|8.62e+01\t|-1.25e+02\t|\n",
      "|5.10e+04\t|107.3\t|6.22e+00\t|1.37e+02\t|2.02e+02\t|-1.20e+02\t|\n",
      "|5.20e+04\t|109.4\t|3.12e+01\t|1.29e+02\t|3.30e+02\t|-1.17e+02\t|\n",
      "|5.30e+04\t|111.5\t|3.34e+00\t|1.56e+02\t|2.70e+02\t|-1.21e+02\t|\n",
      "|5.40e+04\t|113.6\t|6.68e+00\t|2.01e+02\t|3.98e+02\t|-1.09e+02\t|\n",
      "|5.50e+04\t|115.7\t|1.02e+01\t|2.65e+02\t|5.46e+02\t|-1.08e+02\t|\n",
      "|5.60e+04\t|117.8\t|1.72e+01\t|3.40e+02\t|5.81e+02\t|-1.14e+02\t|\n",
      "|5.70e+04\t|119.9\t|4.08e+01\t|4.08e+02\t|6.20e+02\t|-1.17e+02\t|\n",
      "|5.80e+04\t|122.0\t|3.03e+01\t|4.66e+02\t|7.69e+02\t|-1.24e+02\t|\n",
      "|5.90e+04\t|124.1\t|8.04e+01\t|4.96e+02\t|7.82e+02\t|-1.28e+02\t|\n",
      "Moviepy - Building video /home/manuel/ETH_Code/SemProj/SetBasedRL/examples/Hopper_v2/videos/rl-video-1138-episode-0.mp4.\n",
      "Moviepy - Writing video /home/manuel/ETH_Code/SemProj/SetBasedRL/examples/Hopper_v2/videos/rl-video-1138-episode-0.mp4\n",
      "\n"
     ]
    },
    {
     "name": "stderr",
     "output_type": "stream",
     "text": [
      "                                                             \r"
     ]
    },
    {
     "name": "stdout",
     "output_type": "stream",
     "text": [
      "Moviepy - Done !\n",
      "Moviepy - video ready /home/manuel/ETH_Code/SemProj/SetBasedRL/examples/Hopper_v2/videos/rl-video-1138-episode-0.mp4\n",
      "Evaluation Reward: 98.41878662109374\n",
      "|6.00e+04\t|126.2\t|9.30e-01\t|5.37e+02\t|7.91e+02\t|-1.60e+02\t|\n",
      "|6.10e+04\t|128.3\t|9.32e+00\t|5.41e+02\t|1.20e+03\t|-1.56e+02\t|\n",
      "|6.20e+04\t|130.4\t|7.33e+00\t|4.85e+02\t|1.60e+03\t|-1.92e+02\t|\n",
      "|6.30e+04\t|132.5\t|3.80e+01\t|3.24e+02\t|2.80e+03\t|-1.67e+02\t|\n",
      "|6.40e+04\t|134.5\t|2.80e+02\t|1.22e+02\t|3.60e+03\t|-1.57e+02\t|\n",
      "|6.50e+04\t|136.6\t|3.71e+01\t|-2.17e+01\t|3.37e+03\t|-1.32e+02\t|\n",
      "|6.60e+04\t|138.7\t|3.08e+01\t|-5.75e+01\t|2.72e+03\t|-1.26e+02\t|\n",
      "|6.70e+04\t|140.8\t|4.11e+00\t|2.72e+02\t|2.11e+03\t|-1.55e+02\t|\n",
      "|6.80e+04\t|142.9\t|4.44e+01\t|4.13e+02\t|3.03e+03\t|-1.88e+02\t|\n",
      "|6.90e+04\t|145.0\t|2.33e+01\t|6.58e+02\t|3.26e+03\t|-2.34e+02\t|\n",
      "Moviepy - Building video /home/manuel/ETH_Code/SemProj/SetBasedRL/examples/Hopper_v2/videos/rl-video-1401-episode-0.mp4.\n",
      "Moviepy - Writing video /home/manuel/ETH_Code/SemProj/SetBasedRL/examples/Hopper_v2/videos/rl-video-1401-episode-0.mp4\n",
      "\n"
     ]
    },
    {
     "name": "stderr",
     "output_type": "stream",
     "text": [
      "                                                   "
     ]
    },
    {
     "name": "stdout",
     "output_type": "stream",
     "text": [
      "Moviepy - Done !\n",
      "Moviepy - video ready /home/manuel/ETH_Code/SemProj/SetBasedRL/examples/Hopper_v2/videos/rl-video-1401-episode-0.mp4\n"
     ]
    },
    {
     "name": "stderr",
     "output_type": "stream",
     "text": [
      "\r"
     ]
    },
    {
     "name": "stdout",
     "output_type": "stream",
     "text": [
      "Evaluation Reward: 37.81466064453125\n",
      "|7.00e+04\t|147.1\t|9.82e-01\t|8.53e+02\t|2.66e+03\t|-2.46e+02\t|\n",
      "|7.10e+04\t|149.1\t|1.78e+01\t|1.04e+03\t|3.28e+03\t|-3.15e+02\t|\n",
      "|7.20e+04\t|151.2\t|3.21e+01\t|1.08e+03\t|2.92e+03\t|-3.50e+02\t|\n",
      "|7.30e+04\t|153.3\t|3.78e+00\t|1.03e+03\t|4.16e+03\t|-4.32e+02\t|\n",
      "|7.40e+04\t|155.4\t|1.58e+01\t|1.18e+03\t|5.71e+03\t|-4.13e+02\t|\n",
      "|7.50e+04\t|157.5\t|1.31e+01\t|1.22e+03\t|5.17e+03\t|-4.14e+02\t|\n",
      "|7.60e+04\t|159.6\t|9.17e+00\t|1.29e+03\t|4.81e+03\t|-4.44e+02\t|\n",
      "|7.70e+04\t|161.6\t|6.69e+02\t|1.13e+03\t|6.61e+03\t|-4.48e+02\t|\n",
      "|7.80e+04\t|163.7\t|6.39e+02\t|8.72e+02\t|7.57e+03\t|-4.57e+02\t|\n",
      "|7.90e+04\t|165.8\t|6.32e+02\t|5.61e+02\t|8.68e+03\t|-4.65e+02\t|\n",
      "Moviepy - Building video /home/manuel/ETH_Code/SemProj/SetBasedRL/examples/Hopper_v2/videos/rl-video-1703-episode-0.mp4.\n",
      "Moviepy - Writing video /home/manuel/ETH_Code/SemProj/SetBasedRL/examples/Hopper_v2/videos/rl-video-1703-episode-0.mp4\n",
      "\n"
     ]
    },
    {
     "name": "stderr",
     "output_type": "stream",
     "text": [
      "                                                                \r"
     ]
    },
    {
     "name": "stdout",
     "output_type": "stream",
     "text": [
      "Moviepy - Done !\n",
      "Moviepy - video ready /home/manuel/ETH_Code/SemProj/SetBasedRL/examples/Hopper_v2/videos/rl-video-1703-episode-0.mp4\n",
      "Evaluation Reward: 973.35224609375\n",
      "|8.00e+04\t|168.2\t|1.00e+00\t|1.28e+02\t|1.02e+04\t|-3.53e+02\t|\n",
      "|8.10e+04\t|170.2\t|1.04e+00\t|-7.45e+01\t|7.06e+03\t|-4.77e+02\t|\n",
      "|8.20e+04\t|172.3\t|1.02e+02\t|-7.86e+01\t|8.97e+03\t|-3.55e+02\t|\n",
      "|8.30e+04\t|174.4\t|2.64e+00\t|-3.16e+01\t|7.89e+03\t|-3.66e+02\t|\n",
      "|8.40e+04\t|176.5\t|3.42e+01\t|4.59e+01\t|1.61e+04\t|-4.14e+02\t|\n",
      "|8.50e+04\t|178.6\t|8.54e+01\t|3.32e+01\t|1.90e+04\t|-4.21e+02\t|\n",
      "|8.60e+04\t|180.7\t|3.09e+00\t|8.92e+01\t|3.34e+04\t|-4.21e+02\t|\n",
      "|8.70e+04\t|182.7\t|7.96e+00\t|1.97e+02\t|3.21e+04\t|-4.58e+02\t|\n",
      "|8.80e+04\t|184.8\t|3.93e+01\t|1.84e+02\t|2.67e+04\t|-5.44e+02\t|\n",
      "|8.90e+04\t|186.9\t|3.11e+00\t|2.60e+02\t|1.69e+04\t|-5.41e+02\t|\n",
      "Moviepy - Building video /home/manuel/ETH_Code/SemProj/SetBasedRL/examples/Hopper_v2/videos/rl-video-2131-episode-0.mp4.\n",
      "Moviepy - Writing video /home/manuel/ETH_Code/SemProj/SetBasedRL/examples/Hopper_v2/videos/rl-video-2131-episode-0.mp4\n",
      "\n"
     ]
    },
    {
     "name": "stderr",
     "output_type": "stream",
     "text": [
      "                                                  "
     ]
    },
    {
     "name": "stdout",
     "output_type": "stream",
     "text": [
      "Moviepy - Done !\n",
      "Moviepy - video ready /home/manuel/ETH_Code/SemProj/SetBasedRL/examples/Hopper_v2/videos/rl-video-2131-episode-0.mp4\n",
      "Evaluation Reward: 2.6365034103393556\n"
     ]
    },
    {
     "name": "stderr",
     "output_type": "stream",
     "text": [
      "\r"
     ]
    },
    {
     "name": "stdout",
     "output_type": "stream",
     "text": [
      "|9.00e+04\t|189.0\t|8.95e-01\t|2.47e+02\t|3.81e+04\t|-8.06e+02\t|\n",
      "|9.10e+04\t|191.1\t|3.37e+00\t|2.23e+02\t|2.06e+04\t|-7.14e+02\t|\n",
      "|9.20e+04\t|193.2\t|3.88e+00\t|2.10e+02\t|4.32e+04\t|-8.20e+02\t|\n",
      "|9.30e+04\t|195.3\t|8.78e+00\t|1.66e+02\t|2.71e+04\t|-9.13e+02\t|\n",
      "|9.40e+04\t|197.3\t|1.05e+01\t|1.33e+02\t|3.11e+04\t|-1.02e+03\t|\n",
      "|9.50e+04\t|199.4\t|6.51e+00\t|5.49e+02\t|4.49e+04\t|-1.17e+03\t|\n",
      "|9.60e+04\t|201.5\t|8.52e+00\t|8.59e+02\t|4.43e+04\t|-1.33e+03\t|\n",
      "|9.70e+04\t|203.6\t|1.07e+01\t|1.24e+03\t|6.59e+04\t|-1.68e+03\t|\n",
      "|9.80e+04\t|205.7\t|1.98e+00\t|1.48e+03\t|8.53e+04\t|-2.18e+03\t|\n",
      "|9.90e+04\t|207.8\t|5.72e+00\t|2.11e+03\t|1.32e+05\t|-2.39e+03\t|\n",
      "Moviepy - Building video /home/manuel/ETH_Code/SemProj/SetBasedRL/examples/Hopper_v2/videos/rl-video-2739-episode-0.mp4.\n",
      "Moviepy - Writing video /home/manuel/ETH_Code/SemProj/SetBasedRL/examples/Hopper_v2/videos/rl-video-2739-episode-0.mp4\n",
      "\n"
     ]
    },
    {
     "name": "stderr",
     "output_type": "stream",
     "text": [
      "                                                   "
     ]
    },
    {
     "name": "stdout",
     "output_type": "stream",
     "text": [
      "Moviepy - Done !\n",
      "Moviepy - video ready /home/manuel/ETH_Code/SemProj/SetBasedRL/examples/Hopper_v2/videos/rl-video-2739-episode-0.mp4\n"
     ]
    },
    {
     "name": "stderr",
     "output_type": "stream",
     "text": [
      "\r"
     ]
    },
    {
     "name": "stdout",
     "output_type": "stream",
     "text": [
      "Evaluation Reward: 6.6378334045410154\n",
      "|1.00e+05\t|209.8\t|9.84e-01\t|2.50e+03\t|1.12e+05\t|-2.78e+03\t|\n",
      "|1.01e+05\t|211.9\t|9.13e+00\t|2.85e+03\t|1.37e+05\t|-2.87e+03\t|\n",
      "|1.02e+05\t|214.0\t|1.24e+01\t|3.24e+03\t|1.63e+05\t|-3.31e+03\t|\n",
      "|1.03e+05\t|216.1\t|7.00e+02\t|3.24e+03\t|1.70e+05\t|-3.47e+03\t|\n",
      "|1.04e+05\t|218.2\t|1.96e+02\t|3.74e+03\t|2.01e+05\t|-3.83e+03\t|\n",
      "|1.05e+05\t|220.3\t|1.95e+02\t|4.01e+03\t|2.15e+05\t|-4.07e+03\t|\n",
      "|1.06e+05\t|222.3\t|6.61e+01\t|4.40e+03\t|2.04e+05\t|-4.27e+03\t|\n",
      "|1.07e+05\t|224.4\t|4.06e+01\t|4.88e+03\t|2.03e+05\t|-4.49e+03\t|\n",
      "|1.08e+05\t|226.5\t|8.53e+01\t|5.85e+03\t|2.69e+05\t|-5.08e+03\t|\n",
      "|1.09e+05\t|228.6\t|1.13e+02\t|7.17e+03\t|3.42e+05\t|-5.54e+03\t|\n",
      "Moviepy - Building video /home/manuel/ETH_Code/SemProj/SetBasedRL/examples/Hopper_v2/videos/rl-video-2891-episode-0.mp4.\n",
      "Moviepy - Writing video /home/manuel/ETH_Code/SemProj/SetBasedRL/examples/Hopper_v2/videos/rl-video-2891-episode-0.mp4\n",
      "\n"
     ]
    },
    {
     "name": "stderr",
     "output_type": "stream",
     "text": [
      "                                                             \r"
     ]
    },
    {
     "name": "stdout",
     "output_type": "stream",
     "text": [
      "Moviepy - Done !\n",
      "Moviepy - video ready /home/manuel/ETH_Code/SemProj/SetBasedRL/examples/Hopper_v2/videos/rl-video-2891-episode-0.mp4\n",
      "Evaluation Reward: 148.54345703125\n",
      "|1.10e+05\t|230.7\t|9.50e-01\t|8.89e+03\t|1.62e+05\t|-5.94e+03\t|\n",
      "|1.11e+05\t|232.8\t|9.38e+01\t|1.13e+04\t|3.19e+05\t|-7.04e+03\t|\n",
      "|1.12e+05\t|234.9\t|1.39e+02\t|1.37e+04\t|3.30e+05\t|-7.73e+03\t|\n",
      "|1.13e+05\t|237.0\t|2.67e+02\t|1.56e+04\t|3.48e+05\t|-8.54e+03\t|\n",
      "|1.14e+05\t|239.0\t|1.29e+02\t|1.72e+04\t|4.07e+05\t|-9.53e+03\t|\n",
      "|1.15e+05\t|241.1\t|5.90e+01\t|1.83e+04\t|4.99e+05\t|-9.98e+03\t|\n",
      "|1.16e+05\t|243.2\t|1.64e+02\t|1.96e+04\t|5.14e+05\t|-1.03e+04\t|\n",
      "|1.17e+05\t|245.3\t|9.07e+01\t|1.97e+04\t|6.34e+05\t|-1.03e+04\t|\n",
      "|1.18e+05\t|247.4\t|1.53e+01\t|1.90e+04\t|6.92e+05\t|-1.06e+04\t|\n",
      "|1.19e+05\t|249.5\t|3.33e+00\t|1.90e+04\t|5.48e+05\t|-9.10e+03\t|\n",
      "Moviepy - Building video /home/manuel/ETH_Code/SemProj/SetBasedRL/examples/Hopper_v2/videos/rl-video-3004-episode-0.mp4.\n",
      "Moviepy - Writing video /home/manuel/ETH_Code/SemProj/SetBasedRL/examples/Hopper_v2/videos/rl-video-3004-episode-0.mp4\n",
      "\n"
     ]
    },
    {
     "name": "stderr",
     "output_type": "stream",
     "text": [
      "                                                             \r"
     ]
    },
    {
     "name": "stdout",
     "output_type": "stream",
     "text": [
      "Moviepy - Done !\n",
      "Moviepy - video ready /home/manuel/ETH_Code/SemProj/SetBasedRL/examples/Hopper_v2/videos/rl-video-3004-episode-0.mp4\n",
      "Evaluation Reward: 12.262886810302735\n",
      "|1.20e+05\t|251.6\t|9.52e-01\t|1.86e+04\t|2.87e+05\t|-1.10e+04\t|\n",
      "|1.21e+05\t|253.6\t|9.70e+00\t|1.98e+04\t|8.65e+05\t|-1.07e+04\t|\n",
      "|1.22e+05\t|255.7\t|7.34e+00\t|2.17e+04\t|1.06e+06\t|-1.14e+04\t|\n",
      "|1.23e+05\t|257.8\t|1.76e+00\t|2.49e+04\t|1.16e+06\t|-1.46e+04\t|\n",
      "|1.24e+05\t|259.9\t|5.71e+00\t|2.82e+04\t|1.70e+06\t|-1.38e+04\t|\n",
      "|1.25e+05\t|262.0\t|1.04e+01\t|3.47e+04\t|3.08e+06\t|-1.59e+04\t|\n",
      "|1.26e+05\t|264.1\t|8.34e+00\t|4.34e+04\t|3.82e+06\t|-1.76e+04\t|\n",
      "|1.27e+05\t|266.2\t|1.60e+01\t|5.56e+04\t|5.56e+06\t|-2.28e+04\t|\n",
      "|1.28e+05\t|268.2\t|3.25e+01\t|6.93e+04\t|9.62e+06\t|-2.75e+04\t|\n",
      "|1.29e+05\t|270.3\t|3.96e+01\t|9.17e+04\t|1.37e+07\t|-3.62e+04\t|\n",
      "Moviepy - Building video /home/manuel/ETH_Code/SemProj/SetBasedRL/examples/Hopper_v2/videos/rl-video-3233-episode-0.mp4.\n",
      "Moviepy - Writing video /home/manuel/ETH_Code/SemProj/SetBasedRL/examples/Hopper_v2/videos/rl-video-3233-episode-0.mp4\n",
      "\n"
     ]
    },
    {
     "name": "stderr",
     "output_type": "stream",
     "text": [
      "                                                             \r"
     ]
    },
    {
     "name": "stdout",
     "output_type": "stream",
     "text": [
      "Moviepy - Done !\n",
      "Moviepy - video ready /home/manuel/ETH_Code/SemProj/SetBasedRL/examples/Hopper_v2/videos/rl-video-3233-episode-0.mp4\n",
      "Evaluation Reward: 57.916998291015624\n",
      "|1.30e+05\t|272.4\t|9.26e-01\t|1.19e+05\t|1.78e+07\t|-5.26e+04\t|\n",
      "|1.31e+05\t|274.5\t|5.61e+01\t|1.44e+05\t|2.63e+07\t|-5.29e+04\t|\n",
      "|1.32e+05\t|276.6\t|8.02e+00\t|1.78e+05\t|3.44e+07\t|-6.71e+04\t|\n",
      "|1.33e+05\t|278.7\t|2.56e+00\t|2.19e+05\t|6.91e+07\t|-8.61e+04\t|\n",
      "|1.34e+05\t|280.8\t|8.76e+00\t|2.70e+05\t|9.23e+07\t|-1.02e+05\t|\n",
      "|1.35e+05\t|282.9\t|5.01e+00\t|3.22e+05\t|9.67e+07\t|-1.21e+05\t|\n",
      "|1.36e+05\t|284.9\t|1.31e+02\t|3.82e+05\t|2.35e+08\t|-1.43e+05\t|\n",
      "|1.37e+05\t|287.0\t|3.72e+01\t|4.62e+05\t|2.87e+08\t|-1.73e+05\t|\n",
      "|1.38e+05\t|289.1\t|4.56e+01\t|5.51e+05\t|3.61e+08\t|-2.07e+05\t|\n",
      "|1.39e+05\t|291.2\t|3.74e+01\t|6.69e+05\t|5.84e+08\t|-2.59e+05\t|\n",
      "Moviepy - Building video /home/manuel/ETH_Code/SemProj/SetBasedRL/examples/Hopper_v2/videos/rl-video-3321-episode-0.mp4.\n",
      "Moviepy - Writing video /home/manuel/ETH_Code/SemProj/SetBasedRL/examples/Hopper_v2/videos/rl-video-3321-episode-0.mp4\n",
      "\n"
     ]
    },
    {
     "name": "stderr",
     "output_type": "stream",
     "text": [
      "                                                               \r"
     ]
    },
    {
     "name": "stdout",
     "output_type": "stream",
     "text": [
      "Moviepy - Done !\n",
      "Moviepy - video ready /home/manuel/ETH_Code/SemProj/SetBasedRL/examples/Hopper_v2/videos/rl-video-3321-episode-0.mp4\n",
      "Evaluation Reward: 127.87989501953125\n",
      "|1.40e+05\t|293.3\t|9.99e-01\t|7.92e+05\t|8.19e+08\t|-2.75e+05\t|\n",
      "|1.41e+05\t|295.4\t|4.85e+01\t|9.49e+05\t|1.13e+09\t|-3.49e+05\t|\n",
      "|1.42e+05\t|297.5\t|7.64e+00\t|1.13e+06\t|1.08e+09\t|-4.23e+05\t|\n",
      "|1.43e+05\t|299.6\t|1.99e+01\t|1.27e+06\t|2.36e+09\t|-5.24e+05\t|\n",
      "|1.44e+05\t|301.7\t|6.75e+01\t|1.44e+06\t|3.79e+09\t|-5.90e+05\t|\n",
      "|1.45e+05\t|303.8\t|1.74e+02\t|1.67e+06\t|4.40e+09\t|-6.74e+05\t|\n",
      "|1.46e+05\t|305.9\t|1.93e+02\t|1.91e+06\t|5.44e+09\t|-7.81e+05\t|\n",
      "|1.47e+05\t|307.9\t|6.50e+01\t|2.19e+06\t|8.74e+09\t|-9.26e+05\t|\n",
      "|1.48e+05\t|310.0\t|1.61e+02\t|2.47e+06\t|1.06e+10\t|-1.04e+06\t|\n",
      "|1.49e+05\t|312.1\t|1.14e+02\t|2.84e+06\t|1.37e+10\t|-1.20e+06\t|\n",
      "Moviepy - Building video /home/manuel/ETH_Code/SemProj/SetBasedRL/examples/Hopper_v2/videos/rl-video-3390-episode-0.mp4.\n",
      "Moviepy - Writing video /home/manuel/ETH_Code/SemProj/SetBasedRL/examples/Hopper_v2/videos/rl-video-3390-episode-0.mp4\n",
      "\n"
     ]
    },
    {
     "name": "stderr",
     "output_type": "stream",
     "text": [
      "                                                               \r"
     ]
    },
    {
     "name": "stdout",
     "output_type": "stream",
     "text": [
      "Moviepy - Done !\n",
      "Moviepy - video ready /home/manuel/ETH_Code/SemProj/SetBasedRL/examples/Hopper_v2/videos/rl-video-3390-episode-0.mp4\n",
      "Evaluation Reward: 390.214306640625\n",
      "|1.50e+05\t|314.3\t|1.01e+00\t|3.18e+06\t|6.67e+10\t|-1.55e+06\t|\n",
      "|1.51e+05\t|316.4\t|7.50e+01\t|3.64e+06\t|2.34e+10\t|-1.54e+06\t|\n",
      "|1.52e+05\t|318.5\t|2.13e+02\t|3.99e+06\t|2.84e+10\t|-1.74e+06\t|\n",
      "|1.53e+05\t|320.6\t|2.42e+02\t|4.45e+06\t|3.43e+10\t|-1.97e+06\t|\n",
      "|1.54e+05\t|322.7\t|3.44e+02\t|4.99e+06\t|3.90e+10\t|-2.17e+06\t|\n",
      "|1.55e+05\t|324.7\t|5.11e+01\t|5.60e+06\t|6.06e+10\t|-2.54e+06\t|\n",
      "|1.56e+05\t|326.8\t|6.60e+00\t|6.17e+06\t|6.79e+10\t|-2.79e+06\t|\n",
      "|1.57e+05\t|328.9\t|3.13e+02\t|6.66e+06\t|7.06e+10\t|-3.07e+06\t|\n",
      "|1.58e+05\t|331.0\t|2.59e+02\t|7.42e+06\t|8.60e+10\t|-3.43e+06\t|\n",
      "|1.59e+05\t|333.1\t|2.00e+02\t|8.21e+06\t|1.29e+11\t|-3.83e+06\t|\n",
      "Moviepy - Building video /home/manuel/ETH_Code/SemProj/SetBasedRL/examples/Hopper_v2/videos/rl-video-3433-episode-0.mp4.\n",
      "Moviepy - Writing video /home/manuel/ETH_Code/SemProj/SetBasedRL/examples/Hopper_v2/videos/rl-video-3433-episode-0.mp4\n",
      "\n"
     ]
    },
    {
     "name": "stderr",
     "output_type": "stream",
     "text": [
      "                                                                \r"
     ]
    },
    {
     "name": "stdout",
     "output_type": "stream",
     "text": [
      "Moviepy - Done !\n",
      "Moviepy - video ready /home/manuel/ETH_Code/SemProj/SetBasedRL/examples/Hopper_v2/videos/rl-video-3433-episode-0.mp4\n",
      "Evaluation Reward: 921.9837890625\n",
      "|1.60e+05\t|335.4\t|9.98e-01\t|9.24e+06\t|1.24e+11\t|-4.86e+06\t|\n",
      "|1.61e+05\t|337.5\t|1.72e+02\t|1.02e+07\t|1.68e+11\t|-4.74e+06\t|\n",
      "|1.62e+05\t|339.6\t|1.21e+02\t|1.12e+07\t|2.38e+11\t|-5.31e+06\t|\n",
      "|1.63e+05\t|341.7\t|3.42e+02\t|1.21e+07\t|2.35e+11\t|-5.72e+06\t|\n",
      "|1.64e+05\t|343.7\t|3.33e+02\t|1.30e+07\t|2.76e+11\t|-6.29e+06\t|\n",
      "|1.65e+05\t|345.8\t|2.59e+02\t|1.46e+07\t|3.60e+11\t|-7.00e+06\t|\n",
      "|1.66e+05\t|347.9\t|6.27e+02\t|1.54e+07\t|4.18e+11\t|-7.58e+06\t|\n",
      "|1.67e+05\t|350.0\t|6.23e+02\t|1.65e+07\t|4.42e+11\t|-8.30e+06\t|\n",
      "|1.68e+05\t|352.1\t|6.25e+02\t|1.82e+07\t|5.65e+11\t|-9.08e+06\t|\n",
      "|1.69e+05\t|354.2\t|2.24e+02\t|2.03e+07\t|6.90e+11\t|-1.03e+07\t|\n",
      "Moviepy - Building video /home/manuel/ETH_Code/SemProj/SetBasedRL/examples/Hopper_v2/videos/rl-video-3460-episode-0.mp4.\n",
      "Moviepy - Writing video /home/manuel/ETH_Code/SemProj/SetBasedRL/examples/Hopper_v2/videos/rl-video-3460-episode-0.mp4\n",
      "\n"
     ]
    },
    {
     "name": "stderr",
     "output_type": "stream",
     "text": [
      "                                                                \r"
     ]
    },
    {
     "name": "stdout",
     "output_type": "stream",
     "text": [
      "Moviepy - Done !\n",
      "Moviepy - video ready /home/manuel/ETH_Code/SemProj/SetBasedRL/examples/Hopper_v2/videos/rl-video-3460-episode-0.mp4\n",
      "Evaluation Reward: 964.35537109375\n",
      "|1.70e+05\t|356.5\t|1.01e+00\t|2.26e+07\t|4.47e+11\t|-1.17e+07\t|\n",
      "|1.71e+05\t|358.6\t|2.09e+02\t|2.40e+07\t|9.05e+11\t|-1.22e+07\t|\n",
      "|1.72e+05\t|360.7\t|2.11e+02\t|2.63e+07\t|1.04e+12\t|-1.33e+07\t|\n",
      "|1.73e+05\t|362.8\t|1.39e+02\t|2.88e+07\t|1.18e+12\t|-1.43e+07\t|\n",
      "|1.74e+05\t|364.9\t|7.46e+02\t|2.95e+07\t|1.47e+12\t|-1.54e+07\t|\n",
      "|1.75e+05\t|366.9\t|3.79e+02\t|3.27e+07\t|1.89e+12\t|-1.69e+07\t|\n",
      "|1.76e+05\t|369.0\t|2.94e+00\t|3.62e+07\t|1.07e+12\t|-1.57e+07\t|\n",
      "|1.77e+05\t|371.1\t|8.14e+01\t|3.88e+07\t|2.42e+12\t|-2.04e+07\t|\n",
      "|1.78e+05\t|373.2\t|1.93e+02\t|4.08e+07\t|2.60e+12\t|-2.17e+07\t|\n",
      "|1.79e+05\t|375.3\t|2.09e+02\t|4.34e+07\t|2.71e+12\t|-2.34e+07\t|\n",
      "Moviepy - Building video /home/manuel/ETH_Code/SemProj/SetBasedRL/examples/Hopper_v2/videos/rl-video-3487-episode-0.mp4.\n",
      "Moviepy - Writing video /home/manuel/ETH_Code/SemProj/SetBasedRL/examples/Hopper_v2/videos/rl-video-3487-episode-0.mp4\n",
      "\n"
     ]
    },
    {
     "name": "stderr",
     "output_type": "stream",
     "text": [
      "                                                               \r"
     ]
    },
    {
     "name": "stdout",
     "output_type": "stream",
     "text": [
      "Moviepy - Done !\n",
      "Moviepy - video ready /home/manuel/ETH_Code/SemProj/SetBasedRL/examples/Hopper_v2/videos/rl-video-3487-episode-0.mp4\n",
      "Evaluation Reward: 525.439013671875\n",
      "|1.80e+05\t|377.5\t|9.92e-01\t|4.76e+07\t|2.54e+12\t|-2.35e+07\t|\n",
      "|1.81e+05\t|379.6\t|3.13e+02\t|4.94e+07\t|4.64e+12\t|-2.67e+07\t|\n",
      "|1.82e+05\t|381.7\t|2.16e+02\t|5.33e+07\t|4.65e+12\t|-2.87e+07\t|\n",
      "|1.83e+05\t|383.8\t|1.54e+02\t|5.60e+07\t|5.38e+12\t|-3.07e+07\t|\n",
      "|1.84e+05\t|385.9\t|1.98e+02\t|5.94e+07\t|6.53e+12\t|-3.28e+07\t|\n",
      "|1.85e+05\t|388.0\t|7.57e+01\t|6.34e+07\t|7.07e+12\t|-3.48e+07\t|\n",
      "|1.86e+05\t|390.0\t|5.01e+00\t|6.77e+07\t|7.80e+12\t|-3.60e+07\t|\n",
      "|1.87e+05\t|392.1\t|1.61e+01\t|7.13e+07\t|7.90e+12\t|-3.82e+07\t|\n",
      "|1.88e+05\t|394.2\t|1.08e+02\t|7.41e+07\t|9.00e+12\t|-4.08e+07\t|\n",
      "|1.89e+05\t|396.3\t|4.78e+01\t|7.87e+07\t|9.98e+12\t|-4.41e+07\t|\n",
      "Moviepy - Building video /home/manuel/ETH_Code/SemProj/SetBasedRL/examples/Hopper_v2/videos/rl-video-3530-episode-0.mp4.\n",
      "Moviepy - Writing video /home/manuel/ETH_Code/SemProj/SetBasedRL/examples/Hopper_v2/videos/rl-video-3530-episode-0.mp4\n",
      "\n"
     ]
    },
    {
     "name": "stderr",
     "output_type": "stream",
     "text": [
      "                                                               \r"
     ]
    },
    {
     "name": "stdout",
     "output_type": "stream",
     "text": [
      "Moviepy - Done !\n",
      "Moviepy - video ready /home/manuel/ETH_Code/SemProj/SetBasedRL/examples/Hopper_v2/videos/rl-video-3530-episode-0.mp4\n",
      "Evaluation Reward: 281.92666015625\n",
      "|1.90e+05\t|398.5\t|1.03e+00\t|8.13e+07\t|3.39e+13\t|-5.61e+07\t|\n",
      "|1.91e+05\t|400.6\t|4.87e+01\t|8.60e+07\t|1.30e+13\t|-4.88e+07\t|\n",
      "|1.92e+05\t|402.6\t|1.35e+02\t|8.75e+07\t|1.30e+13\t|-5.07e+07\t|\n",
      "|1.93e+05\t|404.7\t|7.04e+01\t|9.19e+07\t|1.54e+13\t|-5.40e+07\t|\n",
      "|1.94e+05\t|406.8\t|2.41e+01\t|9.54e+07\t|1.81e+13\t|-5.61e+07\t|\n",
      "|1.95e+05\t|408.9\t|5.81e+01\t|9.86e+07\t|1.61e+13\t|-5.95e+07\t|\n",
      "|1.96e+05\t|411.0\t|7.28e+01\t|1.02e+08\t|1.99e+13\t|-6.17e+07\t|\n",
      "|1.97e+05\t|413.1\t|5.78e+01\t|1.05e+08\t|2.12e+13\t|-6.42e+07\t|\n",
      "|1.98e+05\t|415.2\t|5.77e+01\t|1.08e+08\t|2.19e+13\t|-6.57e+07\t|\n",
      "|1.99e+05\t|417.2\t|1.82e+01\t|1.12e+08\t|2.93e+13\t|-6.83e+07\t|\n",
      "Moviepy - Building video /home/manuel/ETH_Code/SemProj/SetBasedRL/examples/Hopper_v2/videos/rl-video-3612-episode-0.mp4.\n",
      "Moviepy - Writing video /home/manuel/ETH_Code/SemProj/SetBasedRL/examples/Hopper_v2/videos/rl-video-3612-episode-0.mp4\n",
      "\n"
     ]
    },
    {
     "name": "stderr",
     "output_type": "stream",
     "text": [
      "                                                             \r"
     ]
    },
    {
     "name": "stdout",
     "output_type": "stream",
     "text": [
      "Moviepy - Done !\n",
      "Moviepy - video ready /home/manuel/ETH_Code/SemProj/SetBasedRL/examples/Hopper_v2/videos/rl-video-3612-episode-0.mp4\n",
      "Evaluation Reward: 55.83204345703125\n",
      "|2.00e+05\t|419.4\t|1.01e+00\t|1.15e+08\t|1.25e+13\t|-7.25e+07\t|\n",
      "|2.01e+05\t|421.4\t|4.02e+01\t|1.18e+08\t|3.04e+13\t|-7.25e+07\t|\n",
      "|2.02e+05\t|423.5\t|1.16e+01\t|1.21e+08\t|2.75e+13\t|-7.81e+07\t|\n",
      "|2.03e+05\t|425.6\t|1.19e+01\t|1.25e+08\t|1.33e+13\t|-7.98e+07\t|\n",
      "|2.04e+05\t|427.7\t|3.19e+01\t|1.27e+08\t|4.21e+13\t|-8.30e+07\t|\n",
      "|2.05e+05\t|429.8\t|2.77e+01\t|1.30e+08\t|3.89e+13\t|-8.30e+07\t|\n",
      "|2.06e+05\t|431.9\t|6.31e+00\t|1.34e+08\t|2.27e+13\t|-8.47e+07\t|\n",
      "|2.07e+05\t|434.0\t|7.01e+00\t|1.36e+08\t|4.82e+13\t|-8.79e+07\t|\n",
      "|2.08e+05\t|436.0\t|1.12e+01\t|1.39e+08\t|3.49e+13\t|-9.49e+07\t|\n",
      "|2.09e+05\t|438.1\t|3.37e+01\t|1.42e+08\t|3.85e+13\t|-9.29e+07\t|\n",
      "Moviepy - Building video /home/manuel/ETH_Code/SemProj/SetBasedRL/examples/Hopper_v2/videos/rl-video-3751-episode-0.mp4.\n",
      "Moviepy - Writing video /home/manuel/ETH_Code/SemProj/SetBasedRL/examples/Hopper_v2/videos/rl-video-3751-episode-0.mp4\n",
      "\n"
     ]
    },
    {
     "name": "stderr",
     "output_type": "stream",
     "text": [
      "                                                             \r"
     ]
    },
    {
     "name": "stdout",
     "output_type": "stream",
     "text": [
      "Moviepy - Done !\n",
      "Moviepy - video ready /home/manuel/ETH_Code/SemProj/SetBasedRL/examples/Hopper_v2/videos/rl-video-3751-episode-0.mp4\n",
      "Evaluation Reward: 48.59709167480469\n",
      "|2.10e+05\t|440.2\t|9.87e-01\t|1.45e+08\t|2.43e+13\t|-9.72e+07\t|\n",
      "|2.11e+05\t|442.3\t|2.97e+00\t|1.47e+08\t|4.30e+13\t|-9.86e+07\t|\n",
      "|2.12e+05\t|444.4\t|8.79e+00\t|1.50e+08\t|4.69e+13\t|-9.75e+07\t|\n",
      "|2.13e+05\t|446.5\t|3.76e+01\t|1.54e+08\t|6.29e+13\t|-9.97e+07\t|\n",
      "|2.14e+05\t|448.6\t|2.48e+01\t|1.56e+08\t|5.59e+13\t|-1.02e+08\t|\n",
      "|2.15e+05\t|450.7\t|1.84e+01\t|1.60e+08\t|6.52e+13\t|-1.05e+08\t|\n",
      "|2.16e+05\t|452.8\t|2.00e+01\t|1.62e+08\t|6.25e+13\t|-1.05e+08\t|\n",
      "|2.17e+05\t|454.8\t|3.98e+01\t|1.65e+08\t|7.48e+13\t|-1.07e+08\t|\n",
      "|2.18e+05\t|456.9\t|3.54e+01\t|1.68e+08\t|1.01e+14\t|-1.10e+08\t|\n",
      "|2.19e+05\t|459.0\t|1.28e+01\t|1.72e+08\t|1.12e+14\t|-1.13e+08\t|\n",
      "Moviepy - Building video /home/manuel/ETH_Code/SemProj/SetBasedRL/examples/Hopper_v2/videos/rl-video-3888-episode-0.mp4.\n",
      "Moviepy - Writing video /home/manuel/ETH_Code/SemProj/SetBasedRL/examples/Hopper_v2/videos/rl-video-3888-episode-0.mp4\n",
      "\n"
     ]
    },
    {
     "name": "stderr",
     "output_type": "stream",
     "text": [
      "                                                             \r"
     ]
    },
    {
     "name": "stdout",
     "output_type": "stream",
     "text": [
      "Moviepy - Done !\n",
      "Moviepy - video ready /home/manuel/ETH_Code/SemProj/SetBasedRL/examples/Hopper_v2/videos/rl-video-3888-episode-0.mp4\n",
      "Evaluation Reward: 48.5760498046875\n",
      "|2.20e+05\t|461.1\t|9.94e-01\t|1.76e+08\t|5.10e+13\t|-1.07e+08\t|\n",
      "|2.21e+05\t|463.2\t|7.45e+00\t|1.80e+08\t|6.26e+13\t|-1.19e+08\t|\n",
      "|2.22e+05\t|465.3\t|3.10e+01\t|1.82e+08\t|1.02e+14\t|-1.20e+08\t|\n",
      "|2.23e+05\t|467.4\t|7.31e+00\t|1.89e+08\t|7.60e+13\t|-1.23e+08\t|\n",
      "|2.24e+05\t|469.5\t|9.05e+00\t|1.95e+08\t|1.36e+14\t|-1.31e+08\t|\n",
      "|2.25e+05\t|471.5\t|3.83e+01\t|1.98e+08\t|1.21e+14\t|-1.32e+08\t|\n",
      "|2.26e+05\t|473.6\t|2.17e+01\t|2.06e+08\t|1.44e+14\t|-1.37e+08\t|\n",
      "|2.27e+05\t|475.7\t|1.04e+00\t|2.14e+08\t|4.28e+13\t|-1.37e+08\t|\n",
      "|2.28e+05\t|477.8\t|3.01e+01\t|2.22e+08\t|1.79e+14\t|-1.44e+08\t|\n",
      "|2.29e+05\t|479.9\t|1.44e+01\t|2.31e+08\t|1.39e+14\t|-1.52e+08\t|\n",
      "Moviepy - Building video /home/manuel/ETH_Code/SemProj/SetBasedRL/examples/Hopper_v2/videos/rl-video-4035-episode-0.mp4.\n",
      "Moviepy - Writing video /home/manuel/ETH_Code/SemProj/SetBasedRL/examples/Hopper_v2/videos/rl-video-4035-episode-0.mp4\n",
      "\n"
     ]
    },
    {
     "name": "stderr",
     "output_type": "stream",
     "text": [
      "                                                             \r"
     ]
    },
    {
     "name": "stdout",
     "output_type": "stream",
     "text": [
      "Moviepy - Done !\n",
      "Moviepy - video ready /home/manuel/ETH_Code/SemProj/SetBasedRL/examples/Hopper_v2/videos/rl-video-4035-episode-0.mp4\n",
      "Evaluation Reward: 34.7930908203125\n",
      "|2.30e+05\t|482.0\t|1.00e+00\t|2.40e+08\t|1.70e+14\t|-1.47e+08\t|\n",
      "|2.31e+05\t|484.1\t|1.85e+01\t|2.53e+08\t|2.02e+14\t|-1.66e+08\t|\n",
      "|2.32e+05\t|486.2\t|1.40e+01\t|2.66e+08\t|2.23e+14\t|-1.77e+08\t|\n",
      "|2.33e+05\t|488.2\t|1.52e+01\t|2.83e+08\t|2.74e+14\t|-1.91e+08\t|\n",
      "|2.34e+05\t|490.3\t|5.80e+00\t|3.00e+08\t|1.79e+14\t|-2.03e+08\t|\n",
      "|2.35e+05\t|492.4\t|1.42e+01\t|3.18e+08\t|3.89e+14\t|-1.99e+08\t|\n",
      "|2.36e+05\t|494.5\t|3.34e+01\t|3.31e+08\t|3.67e+14\t|-2.10e+08\t|\n",
      "|2.37e+05\t|496.6\t|1.16e+01\t|3.59e+08\t|5.58e+14\t|-2.22e+08\t|\n",
      "|2.38e+05\t|498.7\t|4.69e+01\t|3.81e+08\t|3.77e+14\t|-2.29e+08\t|\n",
      "|2.39e+05\t|500.8\t|1.69e+01\t|4.02e+08\t|5.65e+14\t|-2.36e+08\t|\n",
      "Moviepy - Building video /home/manuel/ETH_Code/SemProj/SetBasedRL/examples/Hopper_v2/videos/rl-video-4192-episode-0.mp4.\n",
      "Moviepy - Writing video /home/manuel/ETH_Code/SemProj/SetBasedRL/examples/Hopper_v2/videos/rl-video-4192-episode-0.mp4\n",
      "\n"
     ]
    },
    {
     "name": "stderr",
     "output_type": "stream",
     "text": [
      "                                                             \r"
     ]
    },
    {
     "name": "stdout",
     "output_type": "stream",
     "text": [
      "Moviepy - Done !\n",
      "Moviepy - video ready /home/manuel/ETH_Code/SemProj/SetBasedRL/examples/Hopper_v2/videos/rl-video-4192-episode-0.mp4\n",
      "Evaluation Reward: 70.62403564453125\n",
      "|2.40e+05\t|502.9\t|1.02e+00\t|4.41e+08\t|1.77e+14\t|-2.97e+08\t|\n",
      "|2.41e+05\t|505.0\t|1.23e+01\t|4.69e+08\t|4.77e+14\t|-2.70e+08\t|\n",
      "|2.42e+05\t|507.0\t|9.95e+01\t|5.02e+08\t|6.45e+14\t|-2.77e+08\t|\n",
      "|2.43e+05\t|509.1\t|7.92e+01\t|5.34e+08\t|6.71e+14\t|-2.98e+08\t|\n",
      "|2.44e+05\t|511.2\t|1.70e+02\t|5.71e+08\t|7.28e+14\t|-3.15e+08\t|\n",
      "|2.45e+05\t|513.3\t|7.71e+02\t|5.76e+08\t|7.80e+14\t|-3.32e+08\t|\n",
      "|2.46e+05\t|515.4\t|7.84e+02\t|6.11e+08\t|8.54e+14\t|-3.57e+08\t|\n",
      "|2.47e+05\t|517.5\t|7.91e+02\t|6.60e+08\t|9.85e+14\t|-3.87e+08\t|\n",
      "|2.48e+05\t|519.6\t|8.03e+02\t|6.96e+08\t|1.14e+15\t|-4.17e+08\t|\n",
      "|2.49e+05\t|521.6\t|8.06e+02\t|7.34e+08\t|1.31e+15\t|-4.48e+08\t|\n",
      "Moviepy - Building video /home/manuel/ETH_Code/SemProj/SetBasedRL/examples/Hopper_v2/videos/rl-video-4232-episode-0.mp4.\n",
      "Moviepy - Writing video /home/manuel/ETH_Code/SemProj/SetBasedRL/examples/Hopper_v2/videos/rl-video-4232-episode-0.mp4\n",
      "\n"
     ]
    },
    {
     "name": "stderr",
     "output_type": "stream",
     "text": [
      "                                                                \r"
     ]
    },
    {
     "name": "stdout",
     "output_type": "stream",
     "text": [
      "Moviepy - Done !\n",
      "Moviepy - video ready /home/manuel/ETH_Code/SemProj/SetBasedRL/examples/Hopper_v2/videos/rl-video-4232-episode-0.mp4\n",
      "Evaluation Reward: 1002.12353515625\n",
      "|2.50e+05\t|524.0\t|9.96e-01\t|8.19e+08\t|4.79e+14\t|-5.19e+08\t|\n",
      "|2.51e+05\t|526.1\t|1.01e+00\t|8.48e+08\t|6.00e+14\t|-5.56e+08\t|\n",
      "|2.52e+05\t|528.2\t|1.04e+00\t|8.85e+08\t|1.21e+15\t|-5.60e+08\t|\n",
      "|2.53e+05\t|530.2\t|9.95e-01\t|9.01e+08\t|1.17e+15\t|-5.86e+08\t|\n",
      "|2.54e+05\t|532.3\t|1.06e+00\t|9.56e+08\t|1.50e+15\t|-6.20e+08\t|\n",
      "|2.55e+05\t|534.4\t|1.03e+00\t|1.02e+09\t|2.28e+15\t|-6.22e+08\t|\n",
      "|2.56e+05\t|536.5\t|1.00e+00\t|1.05e+09\t|4.58e+14\t|-7.61e+08\t|\n",
      "|2.57e+05\t|538.6\t|1.05e+00\t|1.08e+09\t|7.90e+14\t|-7.12e+08\t|\n",
      "|2.58e+05\t|540.7\t|1.05e+00\t|1.11e+09\t|1.28e+15\t|-7.62e+08\t|\n",
      "|2.59e+05\t|542.7\t|1.07e+00\t|1.15e+09\t|4.84e+14\t|-8.91e+08\t|\n",
      "Moviepy - Building video /home/manuel/ETH_Code/SemProj/SetBasedRL/examples/Hopper_v2/videos/rl-video-4252-episode-0.mp4.\n",
      "Moviepy - Writing video /home/manuel/ETH_Code/SemProj/SetBasedRL/examples/Hopper_v2/videos/rl-video-4252-episode-0.mp4\n",
      "\n"
     ]
    },
    {
     "name": "stderr",
     "output_type": "stream",
     "text": [
      "                                                                \r"
     ]
    },
    {
     "name": "stdout",
     "output_type": "stream",
     "text": [
      "Moviepy - Done !\n",
      "Moviepy - video ready /home/manuel/ETH_Code/SemProj/SetBasedRL/examples/Hopper_v2/videos/rl-video-4252-episode-0.mp4\n",
      "Evaluation Reward: 974.86572265625\n",
      "|2.60e+05\t|545.1\t|9.86e-01\t|1.18e+09\t|3.99e+14\t|-9.16e+08\t|\n",
      "|2.61e+05\t|547.1\t|9.96e-01\t|1.19e+09\t|3.61e+14\t|-9.28e+08\t|\n",
      "|2.62e+05\t|549.2\t|9.89e-01\t|1.23e+09\t|6.54e+15\t|-8.51e+08\t|\n",
      "|2.63e+05\t|551.3\t|6.25e+01\t|1.24e+09\t|4.15e+15\t|-9.27e+08\t|\n",
      "|2.64e+05\t|553.4\t|3.19e+02\t|1.25e+09\t|3.98e+15\t|-9.55e+08\t|\n",
      "|2.65e+05\t|555.5\t|7.85e+01\t|1.29e+09\t|3.22e+15\t|-9.86e+08\t|\n",
      "|2.66e+05\t|557.6\t|1.71e+02\t|1.31e+09\t|4.98e+15\t|-1.00e+09\t|\n",
      "|2.67e+05\t|559.6\t|3.92e+01\t|1.32e+09\t|3.23e+15\t|-1.01e+09\t|\n",
      "|2.68e+05\t|561.7\t|1.01e+01\t|1.33e+09\t|1.82e+15\t|-1.03e+09\t|\n",
      "|2.69e+05\t|563.8\t|1.46e+02\t|1.35e+09\t|4.77e+15\t|-1.04e+09\t|\n",
      "Moviepy - Building video /home/manuel/ETH_Code/SemProj/SetBasedRL/examples/Hopper_v2/videos/rl-video-4295-episode-0.mp4.\n",
      "Moviepy - Writing video /home/manuel/ETH_Code/SemProj/SetBasedRL/examples/Hopper_v2/videos/rl-video-4295-episode-0.mp4\n",
      "\n"
     ]
    },
    {
     "name": "stderr",
     "output_type": "stream",
     "text": [
      "                                                               \r"
     ]
    },
    {
     "name": "stdout",
     "output_type": "stream",
     "text": [
      "Moviepy - Done !\n",
      "Moviepy - video ready /home/manuel/ETH_Code/SemProj/SetBasedRL/examples/Hopper_v2/videos/rl-video-4295-episode-0.mp4\n",
      "Evaluation Reward: 196.46180419921876\n",
      "|2.70e+05\t|566.0\t|1.01e+00\t|1.36e+09\t|5.49e+15\t|-1.09e+09\t|\n",
      "|2.71e+05\t|568.0\t|1.24e+02\t|1.34e+09\t|4.48e+15\t|-1.06e+09\t|\n",
      "|2.72e+05\t|570.1\t|6.36e+01\t|1.37e+09\t|6.61e+15\t|-1.05e+09\t|\n",
      "|2.73e+05\t|572.2\t|3.84e+01\t|1.37e+09\t|7.18e+15\t|-1.07e+09\t|\n",
      "|2.74e+05\t|574.3\t|8.03e+01\t|1.39e+09\t|4.18e+15\t|-1.08e+09\t|\n",
      "|2.75e+05\t|576.4\t|1.34e+02\t|1.39e+09\t|5.77e+15\t|-1.07e+09\t|\n",
      "|2.76e+05\t|578.5\t|1.68e+02\t|1.39e+09\t|5.75e+15\t|-1.07e+09\t|\n",
      "|2.77e+05\t|580.5\t|1.08e+02\t|1.39e+09\t|6.42e+15\t|-1.08e+09\t|\n",
      "|2.78e+05\t|582.6\t|8.53e+01\t|1.39e+09\t|4.71e+15\t|-1.07e+09\t|\n",
      "|2.79e+05\t|584.7\t|3.94e+00\t|1.40e+09\t|4.47e+15\t|-1.06e+09\t|\n",
      "Moviepy - Building video /home/manuel/ETH_Code/SemProj/SetBasedRL/examples/Hopper_v2/videos/rl-video-4359-episode-0.mp4.\n",
      "Moviepy - Writing video /home/manuel/ETH_Code/SemProj/SetBasedRL/examples/Hopper_v2/videos/rl-video-4359-episode-0.mp4\n",
      "\n"
     ]
    },
    {
     "name": "stderr",
     "output_type": "stream",
     "text": [
      "                                                               \r"
     ]
    },
    {
     "name": "stdout",
     "output_type": "stream",
     "text": [
      "Moviepy - Done !\n",
      "Moviepy - video ready /home/manuel/ETH_Code/SemProj/SetBasedRL/examples/Hopper_v2/videos/rl-video-4359-episode-0.mp4\n",
      "Evaluation Reward: 160.16810302734376\n",
      "|2.80e+05\t|586.9\t|1.03e+00\t|1.41e+09\t|1.68e+15\t|-1.07e+09\t|\n",
      "|2.81e+05\t|588.9\t|6.59e+01\t|1.40e+09\t|5.71e+15\t|-1.08e+09\t|\n",
      "|2.82e+05\t|591.0\t|1.28e+01\t|1.41e+09\t|5.12e+15\t|-1.09e+09\t|\n",
      "|2.83e+05\t|593.1\t|1.69e+01\t|1.41e+09\t|6.67e+15\t|-1.09e+09\t|\n",
      "|2.84e+05\t|595.2\t|5.41e+01\t|1.41e+09\t|6.11e+15\t|-1.09e+09\t|\n",
      "|2.85e+05\t|597.3\t|5.21e+01\t|1.43e+09\t|4.98e+15\t|-1.08e+09\t|\n",
      "|2.86e+05\t|599.4\t|3.00e+01\t|1.43e+09\t|5.06e+15\t|-1.08e+09\t|\n",
      "|2.87e+05\t|601.4\t|4.77e+00\t|1.44e+09\t|3.74e+15\t|-1.13e+09\t|\n",
      "|2.88e+05\t|603.5\t|9.34e+00\t|1.43e+09\t|6.72e+15\t|-1.10e+09\t|\n",
      "|2.89e+05\t|605.6\t|2.61e+01\t|1.45e+09\t|2.80e+15\t|-1.09e+09\t|\n",
      "Moviepy - Building video /home/manuel/ETH_Code/SemProj/SetBasedRL/examples/Hopper_v2/videos/rl-video-4466-episode-0.mp4.\n",
      "Moviepy - Writing video /home/manuel/ETH_Code/SemProj/SetBasedRL/examples/Hopper_v2/videos/rl-video-4466-episode-0.mp4\n",
      "\n"
     ]
    },
    {
     "name": "stderr",
     "output_type": "stream",
     "text": [
      "                                                             \r"
     ]
    },
    {
     "name": "stdout",
     "output_type": "stream",
     "text": [
      "Moviepy - Done !\n",
      "Moviepy - video ready /home/manuel/ETH_Code/SemProj/SetBasedRL/examples/Hopper_v2/videos/rl-video-4466-episode-0.mp4\n",
      "Evaluation Reward: 44.39114990234375\n",
      "|2.90e+05\t|607.7\t|1.01e+00\t|1.45e+09\t|1.06e+15\t|-1.24e+09\t|\n",
      "|2.91e+05\t|609.8\t|1.38e+01\t|1.47e+09\t|9.17e+15\t|-1.12e+09\t|\n",
      "|2.92e+05\t|611.9\t|1.88e+01\t|1.49e+09\t|6.86e+15\t|-1.12e+09\t|\n",
      "|2.93e+05\t|614.0\t|1.26e+01\t|1.50e+09\t|5.32e+15\t|-1.13e+09\t|\n",
      "|2.94e+05\t|616.0\t|1.16e+01\t|1.52e+09\t|7.80e+15\t|-1.14e+09\t|\n",
      "|2.95e+05\t|618.1\t|3.18e+01\t|1.53e+09\t|6.76e+15\t|-1.16e+09\t|\n",
      "|2.96e+05\t|620.2\t|2.53e+01\t|1.55e+09\t|5.63e+15\t|-1.18e+09\t|\n",
      "|2.97e+05\t|622.3\t|2.73e+01\t|1.58e+09\t|5.35e+15\t|-1.16e+09\t|\n",
      "|2.98e+05\t|624.4\t|3.62e+01\t|1.58e+09\t|5.62e+15\t|-1.20e+09\t|\n",
      "|2.99e+05\t|626.5\t|2.88e+01\t|1.60e+09\t|6.37e+15\t|-1.22e+09\t|\n",
      "Moviepy - Building video /home/manuel/ETH_Code/SemProj/SetBasedRL/examples/Hopper_v2/videos/rl-video-4616-episode-0.mp4.\n",
      "Moviepy - Writing video /home/manuel/ETH_Code/SemProj/SetBasedRL/examples/Hopper_v2/videos/rl-video-4616-episode-0.mp4\n",
      "\n"
     ]
    },
    {
     "name": "stderr",
     "output_type": "stream",
     "text": [
      "                                                             \r"
     ]
    },
    {
     "name": "stdout",
     "output_type": "stream",
     "text": [
      "Moviepy - Done !\n",
      "Moviepy - video ready /home/manuel/ETH_Code/SemProj/SetBasedRL/examples/Hopper_v2/videos/rl-video-4616-episode-0.mp4\n",
      "Evaluation Reward: 40.188333129882814\n",
      "|3.00e+05\t|628.6\t|1.04e+00\t|1.63e+09\t|1.20e+15\t|-1.37e+09\t|\n",
      "|3.01e+05\t|630.6\t|4.83e+00\t|1.65e+09\t|6.76e+15\t|-1.23e+09\t|\n",
      "|3.02e+05\t|632.7\t|4.34e+01\t|1.67e+09\t|1.16e+16\t|-1.24e+09\t|\n",
      "|3.03e+05\t|634.8\t|3.44e+01\t|1.68e+09\t|8.93e+15\t|-1.26e+09\t|\n",
      "|3.04e+05\t|636.9\t|2.18e+01\t|1.69e+09\t|7.53e+15\t|-1.26e+09\t|\n",
      "|3.05e+05\t|639.0\t|3.43e+01\t|1.72e+09\t|1.15e+16\t|-1.29e+09\t|\n",
      "|3.06e+05\t|641.1\t|4.20e+01\t|1.73e+09\t|9.73e+15\t|-1.28e+09\t|\n",
      "|3.07e+05\t|643.1\t|4.41e+01\t|1.74e+09\t|1.04e+16\t|-1.33e+09\t|\n",
      "|3.08e+05\t|645.2\t|2.62e+01\t|1.77e+09\t|7.23e+15\t|-1.32e+09\t|\n",
      "|3.09e+05\t|647.3\t|1.47e+01\t|1.77e+09\t|8.00e+15\t|-1.36e+09\t|\n",
      "Moviepy - Building video /home/manuel/ETH_Code/SemProj/SetBasedRL/examples/Hopper_v2/videos/rl-video-4760-episode-0.mp4.\n",
      "Moviepy - Writing video /home/manuel/ETH_Code/SemProj/SetBasedRL/examples/Hopper_v2/videos/rl-video-4760-episode-0.mp4\n",
      "\n"
     ]
    },
    {
     "name": "stderr",
     "output_type": "stream",
     "text": [
      "                                                             \r"
     ]
    },
    {
     "name": "stdout",
     "output_type": "stream",
     "text": [
      "Moviepy - Done !\n",
      "Moviepy - video ready /home/manuel/ETH_Code/SemProj/SetBasedRL/examples/Hopper_v2/videos/rl-video-4760-episode-0.mp4\n",
      "Evaluation Reward: 50.276904296875\n",
      "|3.10e+05\t|649.4\t|9.87e-01\t|1.80e+09\t|2.18e+16\t|-1.45e+09\t|\n",
      "|3.11e+05\t|651.5\t|1.87e+01\t|1.82e+09\t|8.07e+15\t|-1.33e+09\t|\n",
      "|3.12e+05\t|653.6\t|6.76e+00\t|1.83e+09\t|6.76e+15\t|-1.40e+09\t|\n",
      "|3.13e+05\t|655.7\t|4.51e+01\t|1.84e+09\t|1.11e+16\t|-1.39e+09\t|\n",
      "|3.14e+05\t|657.7\t|2.43e+01\t|1.85e+09\t|9.73e+15\t|-1.38e+09\t|\n",
      "|3.15e+05\t|659.8\t|5.34e+01\t|1.86e+09\t|9.63e+15\t|-1.41e+09\t|\n",
      "|3.16e+05\t|661.9\t|3.78e+01\t|1.87e+09\t|8.89e+15\t|-1.40e+09\t|\n",
      "|3.17e+05\t|664.0\t|4.03e+01\t|1.88e+09\t|1.03e+16\t|-1.42e+09\t|\n",
      "|3.18e+05\t|666.1\t|3.88e+01\t|1.89e+09\t|1.23e+16\t|-1.42e+09\t|\n",
      "|3.19e+05\t|668.1\t|5.51e+01\t|1.91e+09\t|1.03e+16\t|-1.45e+09\t|\n",
      "Moviepy - Building video /home/manuel/ETH_Code/SemProj/SetBasedRL/examples/Hopper_v2/videos/rl-video-4885-episode-0.mp4.\n",
      "Moviepy - Writing video /home/manuel/ETH_Code/SemProj/SetBasedRL/examples/Hopper_v2/videos/rl-video-4885-episode-0.mp4\n",
      "\n"
     ]
    },
    {
     "name": "stderr",
     "output_type": "stream",
     "text": [
      "                                                             \r"
     ]
    },
    {
     "name": "stdout",
     "output_type": "stream",
     "text": [
      "Moviepy - Done !\n",
      "Moviepy - video ready /home/manuel/ETH_Code/SemProj/SetBasedRL/examples/Hopper_v2/videos/rl-video-4885-episode-0.mp4\n",
      "Evaluation Reward: 60.37891845703125\n",
      "|3.20e+05\t|670.3\t|9.91e-01\t|1.92e+09\t|3.20e+15\t|-1.42e+09\t|\n",
      "|3.21e+05\t|672.3\t|1.31e+01\t|1.93e+09\t|1.11e+16\t|-1.46e+09\t|\n",
      "|3.22e+05\t|674.4\t|2.09e+00\t|1.93e+09\t|2.38e+15\t|-1.52e+09\t|\n",
      "|3.23e+05\t|676.5\t|5.66e+01\t|1.94e+09\t|1.22e+16\t|-1.48e+09\t|\n",
      "|3.24e+05\t|678.6\t|4.34e+01\t|1.94e+09\t|1.24e+16\t|-1.47e+09\t|\n",
      "|3.25e+05\t|680.7\t|6.68e+01\t|1.96e+09\t|9.00e+15\t|-1.47e+09\t|\n",
      "|3.26e+05\t|682.8\t|8.52e+00\t|1.95e+09\t|1.73e+16\t|-1.52e+09\t|\n",
      "|3.27e+05\t|684.9\t|1.40e+01\t|1.96e+09\t|1.06e+16\t|-1.50e+09\t|\n",
      "|3.28e+05\t|686.9\t|1.19e+01\t|1.98e+09\t|1.13e+16\t|-1.48e+09\t|\n",
      "|3.29e+05\t|689.0\t|2.09e+01\t|1.98e+09\t|1.04e+16\t|-1.45e+09\t|\n",
      "Moviepy - Building video /home/manuel/ETH_Code/SemProj/SetBasedRL/examples/Hopper_v2/videos/rl-video-5000-episode-0.mp4.\n",
      "Moviepy - Writing video /home/manuel/ETH_Code/SemProj/SetBasedRL/examples/Hopper_v2/videos/rl-video-5000-episode-0.mp4\n",
      "\n"
     ]
    },
    {
     "name": "stderr",
     "output_type": "stream",
     "text": [
      "                                                               \r"
     ]
    },
    {
     "name": "stdout",
     "output_type": "stream",
     "text": [
      "Moviepy - Done !\n",
      "Moviepy - video ready /home/manuel/ETH_Code/SemProj/SetBasedRL/examples/Hopper_v2/videos/rl-video-5000-episode-0.mp4\n",
      "Evaluation Reward: 76.66780395507813\n",
      "|3.30e+05\t|691.1\t|9.83e-01\t|1.99e+09\t|1.82e+15\t|-1.60e+09\t|\n",
      "|3.31e+05\t|693.2\t|5.02e+01\t|1.98e+09\t|1.50e+16\t|-1.48e+09\t|\n",
      "|3.32e+05\t|695.3\t|4.73e+01\t|1.99e+09\t|1.31e+16\t|-1.48e+09\t|\n",
      "|3.33e+05\t|697.4\t|3.26e+01\t|1.98e+09\t|1.04e+16\t|-1.50e+09\t|\n",
      "|3.34e+05\t|699.5\t|1.18e+01\t|2.00e+09\t|1.06e+16\t|-1.48e+09\t|\n",
      "|3.35e+05\t|701.6\t|7.88e+01\t|2.00e+09\t|9.39e+15\t|-1.50e+09\t|\n",
      "|3.36e+05\t|703.7\t|7.28e+01\t|2.00e+09\t|1.18e+16\t|-1.48e+09\t|\n",
      "|3.37e+05\t|705.7\t|4.35e+01\t|1.99e+09\t|1.22e+16\t|-1.48e+09\t|\n",
      "|3.38e+05\t|707.8\t|7.73e+01\t|1.99e+09\t|1.41e+16\t|-1.49e+09\t|\n",
      "|3.39e+05\t|709.9\t|1.69e+01\t|2.00e+09\t|1.31e+16\t|-1.49e+09\t|\n",
      "Moviepy - Building video /home/manuel/ETH_Code/SemProj/SetBasedRL/examples/Hopper_v2/videos/rl-video-5098-episode-0.mp4.\n",
      "Moviepy - Writing video /home/manuel/ETH_Code/SemProj/SetBasedRL/examples/Hopper_v2/videos/rl-video-5098-episode-0.mp4\n",
      "\n"
     ]
    },
    {
     "name": "stderr",
     "output_type": "stream",
     "text": [
      "                                                              \r"
     ]
    },
    {
     "name": "stdout",
     "output_type": "stream",
     "text": [
      "Moviepy - Done !\n",
      "Moviepy - video ready /home/manuel/ETH_Code/SemProj/SetBasedRL/examples/Hopper_v2/videos/rl-video-5098-episode-0.mp4\n",
      "Evaluation Reward: 91.44291381835937\n",
      "|3.40e+05\t|712.0\t|1.01e+00\t|2.00e+09\t|2.69e+15\t|-1.43e+09\t|\n",
      "|3.41e+05\t|714.1\t|3.14e+01\t|2.02e+09\t|1.04e+16\t|-1.47e+09\t|\n",
      "|3.42e+05\t|716.2\t|5.64e+01\t|2.01e+09\t|1.22e+16\t|-1.50e+09\t|\n",
      "|3.43e+05\t|718.3\t|7.79e+01\t|2.03e+09\t|1.43e+16\t|-1.49e+09\t|\n",
      "|3.44e+05\t|720.4\t|6.27e+01\t|2.02e+09\t|1.19e+16\t|-1.50e+09\t|\n"
     ]
    },
    {
     "ename": "KeyboardInterrupt",
     "evalue": "",
     "output_type": "error",
     "traceback": [
      "\u001b[0;31m---------------------------------------------------------------------------\u001b[0m",
      "\u001b[0;31mKeyboardInterrupt\u001b[0m                         Traceback (most recent call last)",
      "Cell \u001b[0;32mIn[4], line 1\u001b[0m\n\u001b[0;32m----> 1\u001b[0m \u001b[43magent\u001b[49m\u001b[38;5;241;43m.\u001b[39;49m\u001b[43mtrain\u001b[49m\u001b[43m(\u001b[49m\u001b[43msenv\u001b[49m\u001b[43m,\u001b[49m\u001b[38;5;241;43m2e6\u001b[39;49m\u001b[43m,\u001b[49m\u001b[38;5;28;43;01mTrue\u001b[39;49;00m\u001b[43m)\u001b[49m\n",
      "File \u001b[0;32m~/ETH_Code/SemProj/SetBasedRL/examples/Hopper_v2/../../SBML/SBRL/actorcitic.py:139\u001b[0m, in \u001b[0;36mActorCritic.train\u001b[0;34m(self, env, steps, verbose)\u001b[0m\n\u001b[1;32m    136\u001b[0m total_reward \u001b[38;5;241m+\u001b[39m\u001b[38;5;241m=\u001b[39m reward\n\u001b[1;32m    138\u001b[0m \u001b[38;5;28;01mif\u001b[39;00m \u001b[38;5;28mself\u001b[39m\u001b[38;5;241m.\u001b[39mbuffer\u001b[38;5;241m.\u001b[39mfull \u001b[38;5;129;01mor\u001b[39;00m \u001b[38;5;28mself\u001b[39m\u001b[38;5;241m.\u001b[39mbuffer\u001b[38;5;241m.\u001b[39mindx \u001b[38;5;241m>\u001b[39m \u001b[38;5;28mself\u001b[39m\u001b[38;5;241m.\u001b[39moptions[\u001b[38;5;124m'\u001b[39m\u001b[38;5;124mbatch_size\u001b[39m\u001b[38;5;124m'\u001b[39m]:\n\u001b[0;32m--> 139\u001b[0m     critic_loss, actor_loss \u001b[38;5;241m=\u001b[39m \u001b[38;5;28;43mself\u001b[39;49m\u001b[38;5;241;43m.\u001b[39;49m\u001b[43mtrain_step\u001b[49m\u001b[43m(\u001b[49m\u001b[43m)\u001b[49m\n\u001b[1;32m    140\u001b[0m     total_actor_loss \u001b[38;5;241m+\u001b[39m\u001b[38;5;241m=\u001b[39m actor_loss\n\u001b[1;32m    141\u001b[0m     total_critic_loss \u001b[38;5;241m+\u001b[39m\u001b[38;5;241m=\u001b[39m critic_loss\n",
      "File \u001b[0;32m~/ETH_Code/SemProj/SetBasedRL/examples/Hopper_v2/../../SBML/SBRL/algorithms/ddpg.py:140\u001b[0m, in \u001b[0;36mDDPG.train_step\u001b[0;34m(self)\u001b[0m\n\u001b[1;32m    137\u001b[0m \u001b[38;5;28;01melse\u001b[39;00m:\n\u001b[1;32m    138\u001b[0m     eval_states \u001b[38;5;241m=\u001b[39m states\u001b[38;5;241m.\u001b[39mclone()\u001b[38;5;241m.\u001b[39mdetach()\n\u001b[0;32m--> 140\u001b[0m actor_loss \u001b[38;5;241m=\u001b[39m \u001b[38;5;28;43mself\u001b[39;49m\u001b[38;5;241;43m.\u001b[39;49m\u001b[43mtrain_actor\u001b[49m\u001b[43m(\u001b[49m\u001b[43meval_states\u001b[49m\u001b[43m)\u001b[49m\n\u001b[1;32m    142\u001b[0m \u001b[38;5;28mself\u001b[39m\u001b[38;5;241m.\u001b[39msoft_update(\u001b[38;5;28mself\u001b[39m\u001b[38;5;241m.\u001b[39mactor,\u001b[38;5;28mself\u001b[39m\u001b[38;5;241m.\u001b[39mtarget_actor)\n\u001b[1;32m    143\u001b[0m \u001b[38;5;28mself\u001b[39m\u001b[38;5;241m.\u001b[39msoft_update(\u001b[38;5;28mself\u001b[39m\u001b[38;5;241m.\u001b[39mcritic,\u001b[38;5;28mself\u001b[39m\u001b[38;5;241m.\u001b[39mtarget_critic)\n",
      "File \u001b[0;32m~/ETH_Code/SemProj/SetBasedRL/examples/Hopper_v2/../../SBML/SBRL/algorithms/ddpg.py:191\u001b[0m, in \u001b[0;36mDDPG.train_actor\u001b[0;34m(self, states)\u001b[0m\n\u001b[1;32m    188\u001b[0m loss\u001b[38;5;241m.\u001b[39mbackward()\n\u001b[1;32m    189\u001b[0m \u001b[38;5;28mself\u001b[39m\u001b[38;5;241m.\u001b[39mactor_optim\u001b[38;5;241m.\u001b[39mstep()\n\u001b[0;32m--> 191\u001b[0m \u001b[38;5;28;01mreturn\u001b[39;00m \u001b[43mloss\u001b[49m\u001b[38;5;241;43m.\u001b[39;49m\u001b[43mitem\u001b[49m\u001b[43m(\u001b[49m\u001b[43m)\u001b[49m\n",
      "\u001b[0;31mKeyboardInterrupt\u001b[0m: "
     ]
    }
   ],
   "source": [
    "agent.train(senv,2e6,True)"
   ]
  },
  {
   "cell_type": "code",
   "execution_count": null,
   "metadata": {},
   "outputs": [
    {
     "data": {
      "image/png": "[encoded data removed]",
      "text/plain": [
       "<Figure size 640x480 with 1 Axes>"
      ]
     },
     "metadata": {},
     "output_type": "display_data"
    }
   ],
   "source": [
    "# Extract reward history\n",
    "rewards = np.array(agent.learn_hist['reward'])\n",
    "\n",
    "# Compute moving average with a window of 10\n",
    "window_size = 10\n",
    "moving_avg = np.convolve(rewards, np.ones(window_size)/window_size, mode='valid')\n",
    "\n",
    "steps_executed = 1000 * np.arange(len(rewards))\n",
    "\n",
    "# Plot the reward history\n",
    "plt.figure()\n",
    "plt.plot(steps_executed,rewards, label='Raw Reward', alpha=0.3)\n",
    "plt.plot(1000 *np.arange(window_size - 1, len(rewards)), moving_avg, label='Moving Average (10 evals)', color='red')\n",
    "plt.title('Reward')\n",
    "plt.legend()\n",
    "\n",
    "if not os.path.exists('figures'):\n",
    "    os.makedirs('figures')\n",
    "\n",
    "plt.savefig('figures/LearnHist.png')\n",
    "plt.show()\n"
   ]
  },
  {
   "cell_type": "code",
   "execution_count": null,
   "metadata": {},
   "outputs": [],
   "source": [
    "# Save the model:\n",
    "torch.save(agent.actor.to('cpu').state_dict(), 'actor.pth')\n",
    "torch.save(agent.critic.to('cpu').state_dict(), 'critic.pth')\n",
    "\n",
    "# Save the reward history\n",
    "np.save('rewards.npy', rewards)\n",
    "np.save('reward_mvg.npy', moving_avg)"
   ]
  }
 ],
 "metadata": {
  "kernelspec": {
   "display_name": ".venv",
   "language": "python",
   "name": "python3"
  },
  "language_info": {
   "codemirror_mode": {
    "name": "ipython",
    "version": 3
   },
   "file_extension": ".py",
   "mimetype": "text/x-python",
   "name": "python",
   "nbconvert_exporter": "python",
   "pygments_lexer": "ipython3",
   "version": "3.8.18"
  }
 },
 "nbformat": 4,
 "nbformat_minor": 2
}
