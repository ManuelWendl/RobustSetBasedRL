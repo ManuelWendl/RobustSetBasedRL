{
 "cells": [
  {
   "cell_type": "code",
   "execution_count": 2,
   "metadata": {},
   "outputs": [
    {
     "name": "stdout",
     "output_type": "stream",
     "text": [
      "Zonotope(center=tensor([[-1.,  1.],\n",
      "        [-1.,  1.]]), generators=tensor([[[0.1000, 0.1000],\n",
      "         [0.1000, 0.1000]],\n",
      "\n",
      "        [[0.1000, 0.1000],\n",
      "         [0.1000, 0.1000]]]))\n",
      "2\n",
      "2\n",
      "Zonotope(center=tensor([[-0.4226, -0.2975],\n",
      "        [ 1.4691, -1.1366]]), generators=tensor([[[ 0.0063,  0.0063],\n",
      "         [ 0.0063,  0.0063]],\n",
      "\n",
      "        [[-0.1303, -0.1303],\n",
      "         [-0.1303, -0.1303]]]))\n",
      "2\n",
      "2\n"
     ]
    }
   ],
   "source": [
    "import torch\n",
    "import sys\n",
    "sys.path.append('..')\n",
    "from SBML import ZonoTorch as zt\n",
    "\n",
    "z_input = torch.tensor([[[-1.0,1.0],[.1,.1],[.1,.1]],[[-1.0,1.0],[.1,.1],[.1,.1]]])\n",
    "\n",
    "input_zonotope = zt.set.Zonotope(z_input)\n",
    "\n",
    "layer = torch.nn.Linear(2, 2)\n",
    "\n",
    "print(input_zonotope)\n",
    "print(input_zonotope._dim)\n",
    "print(input_zonotope._batchSize)\n",
    "\n",
    "output_zonotope = layer(input_zonotope)\n",
    "\n",
    "print(output_zonotope)\n",
    "print(output_zonotope._dim)\n",
    "print(output_zonotope._batchSize)\n"
   ]
  }
 ],
 "metadata": {
  "kernelspec": {
   "display_name": ".venv",
   "language": "python",
   "name": "python3"
  },
  "language_info": {
   "codemirror_mode": {
    "name": "ipython",
    "version": 3
   },
   "file_extension": ".py",
   "mimetype": "text/x-python",
   "name": "python",
   "nbconvert_exporter": "python",
   "pygments_lexer": "ipython3",
   "version": "3.12.7"
  }
 },
 "nbformat": 4,
 "nbformat_minor": 2
}
